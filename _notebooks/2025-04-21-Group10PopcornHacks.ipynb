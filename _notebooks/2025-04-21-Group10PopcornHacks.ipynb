{
 "cells": [
  {
   "cell_type": "markdown",
   "metadata": {},
   "source": [
    "---\n",
    "layout: post\n",
    "title: Group 10 Homework\n",
    "description: Big O & Algorithim Efficiency\n",
    "comments: true\n",
    "sticky_rank: 1\n",
    "---"
   ]
  },
  {
   "cell_type": "markdown",
   "metadata": {},
   "source": [
    "**Info About Team Teach**\n",
    "\n",
    "- Big O notation is used to describe the efficiency of algorithms in terms of time complexity and space complexity. It helps us understand how an algorithm scales as the input size increases.\n"
   ]
  },
  {
   "cell_type": "markdown",
   "metadata": {},
   "source": [
    "# Displaying the table using pipes and dashes\n",
    "table = \"\"\"\n",
    "| Notation  | Complexity Class    | Description                                                                      |\n",
    "|-----------|---------------------|----------------------------------------------------------------------------------|\n",
    "| O(1)      | Constant Time       | Execution time is the same regardless of input size.                            |\n",
    "| O(log n)  | Logarithmic Time    | Execution time increases logarithmically with input size.                       |\n",
    "| O(n)      | Linear Time         | Execution time grows proportionally to input size.                              |\n",
    "| O(n log n)| Linearithmic Time   | Common in efficient sorting algorithms like Merge Sort and Quick Sort.          |\n",
    "| O(n²)     | Quadratic Time      | Execution time grows quadratically with input size.                             |\n",
    "| O(2ⁿ)     | Exponential Time    | Execution time doubles with each additional element.                            |\n",
    "| O(n!)     | Factorial Time      | Execution time grows factorially, very inefficient for large inputs.            |\n",
    "\"\"\"\n",
    "\n",
    "# Display the table\n",
    "print(table)\n"
   ]
  },
  {
   "cell_type": "markdown",
   "metadata": {},
   "source": [
    "**Popcorn Hack 1**\n",
    "\n",
    "- Constant Time"
   ]
  },
  {
   "cell_type": "code",
   "execution_count": null,
   "metadata": {},
   "outputs": [],
   "source": [
    "arr = [1, 2, 3, 4, 5]\n",
    "# Print the third item (index 2)\n",
    "print(arr[2])"
   ]
  },
  {
   "cell_type": "markdown",
   "metadata": {},
   "source": [
    "- Linear Time "
   ]
  },
  {
   "cell_type": "code",
   "execution_count": null,
   "metadata": {},
   "outputs": [],
   "source": [
    "arr = [1, 2, 3, 4, 5]\n",
    "# Print all items using a loop (O(n))\n",
    "for item in arr:\n",
    "    print(item)\n"
   ]
  },
  {
   "cell_type": "markdown",
   "metadata": {},
   "source": [
    "**Popcorn Hack 2**"
   ]
  },
  {
   "cell_type": "code",
   "execution_count": 1,
   "metadata": {},
   "outputs": [
    {
     "name": "stdout",
     "output_type": "stream",
     "text": [
      "(1, 2)\n",
      "(1, 3)\n",
      "(2, 3)\n"
     ]
    }
   ],
   "source": [
    "def print_unique_pairs(arr):\n",
    "    # Loop through each element\n",
    "    for i in range(len(arr)):\n",
    "        # Inner loop starts from the next element to avoid repeats\n",
    "        for j in range(i+1, len(arr)):\n",
    "            print(f\"({arr[i]}, {arr[j]})\")\n",
    "\n",
    "# Example usage\n",
    "arr = [1, 2, 3]\n",
    "print_unique_pairs(arr)\n"
   ]
  },
  {
   "cell_type": "markdown",
   "metadata": {},
   "source": [
    "- The function loops through the array using two nested loops:\n",
    "\n",
    "- The outer loop (for i in range(len(arr))) iterates through each element.\n",
    "\n",
    "- The inner loop (for j in range(i+1, len(arr))) starts from the next element after the current element of the outer loop to avoid printing pairs like (1,1) and duplicates like (2,1) after the first pair (1,2)."
   ]
  },
  {
   "cell_type": "markdown",
   "metadata": {},
   "source": [
    "- The time complexity of this code is O(n²), where n is the number of elements in the array.\n",
    "\n",
    "- The outer loop runs n times (once for each element in the array).\n",
    "\n",
    "- The inner loop runs n-1 times for the first element, n-2 times for the second element, and so on, resulting in a total of approximately n(n-1)/2 iterations."
   ]
  },
  {
   "cell_type": "markdown",
   "metadata": {},
   "source": [
    "**Popcorn Hack 3**"
   ]
  },
  {
   "cell_type": "markdown",
   "metadata": {},
   "source": [
    "- Linear Time (O(n)): The time increases linearly with the input size. It scales fairly well, even for large inputs, but still takes longer as the input grows.\n",
    "\n",
    "- Factorial Time (O(n!)): This is extremely inefficient for large inputs. The time complexity grows very quickly as the input size increases. For example, if you have an input of size 10, the number of operations would be 10!, which equals 3,628,800. For an input size of 20, it becomes 20!, which is 2,432,902,008,176,640,000. This makes it impractical for large inputs.\n",
    "\n",
    "- Constant Time (O(1)): This is very efficient because the time taken does not depend on the size of the input at all. It stays the same regardless of input size.\n",
    "\n",
    "- Linearithmic Time (O(n log n)): This is generally considered efficient for most large inputs, especially when compared to algorithms with quadratic or worse time complexities. Examples include efficient sorting algorithms like Merge Sort and Quick Sort."
   ]
  },
  {
   "cell_type": "markdown",
   "metadata": {},
   "source": [
    "Quadratic Time (O(n²)): This time complexity can be represented by a nested loop. For example, in a nested loop, the outer loop runs n times, and for each iteration of the outer loop, the inner loop runs n times, resulting in n * n iterations, which gives a time complexity of O(n²)."
   ]
  },
  {
   "cell_type": "code",
   "execution_count": null,
   "metadata": {},
   "outputs": [],
   "source": [
    "for i in range(n):  # Outer loop runs n times\n",
    "    for j in range(n):  # Inner loop also runs n times\n",
    "        # O(1) operation inside the loops\n"
   ]
  },
  {
   "cell_type": "markdown",
   "metadata": {},
   "source": [
    "**Homework Hack 1**"
   ]
  },
  {
   "cell_type": "code",
   "execution_count": 2,
   "metadata": {},
   "outputs": [
    {
     "name": "stdout",
     "output_type": "stream",
     "text": [
      "Constant Time Output:\n",
      "5\n",
      "\n",
      "Linear Time Output:\n",
      "5\n",
      "10\n",
      "15\n",
      "20\n",
      "25\n",
      "\n",
      "Quadratic Time Output:\n",
      "(5, 10)\n",
      "(5, 15)\n",
      "(5, 20)\n",
      "(5, 25)\n",
      "(10, 15)\n",
      "(10, 20)\n",
      "(10, 25)\n",
      "(15, 20)\n",
      "(15, 25)\n",
      "(20, 25)\n"
     ]
    }
   ],
   "source": [
    "def time_complexity_operations(arr, complexity_type):\n",
    "    # Constant time: Return the first item\n",
    "    if complexity_type == \"constant\":\n",
    "        return arr[0]\n",
    "\n",
    "    # Linear time: Print all items in the array\n",
    "    elif complexity_type == \"linear\":\n",
    "        for item in arr:\n",
    "            print(item)\n",
    "\n",
    "    # Quadratic time: Print all pairs of items in the array\n",
    "    elif complexity_type == \"quadratic\":\n",
    "        for i in range(len(arr)):\n",
    "            for j in range(i+1, len(arr)):\n",
    "                print(f\"({arr[i]}, {arr[j]})\")\n",
    "    else:\n",
    "        print(\"Unsupported time complexity type\")\n",
    "\n",
    "# Example usage\n",
    "arr = [5, 10, 15, 20, 25]\n",
    "\n",
    "# Constant time example\n",
    "print(\"Constant Time Output:\")\n",
    "print(time_complexity_operations(arr, \"constant\"))\n",
    "\n",
    "# Linear time example\n",
    "print(\"\\nLinear Time Output:\")\n",
    "time_complexity_operations(arr, \"linear\")\n",
    "\n",
    "# Quadratic time example\n",
    "print(\"\\nQuadratic Time Output:\")\n",
    "time_complexity_operations(arr, \"quadratic\")\n"
   ]
  },
  {
   "cell_type": "markdown",
   "metadata": {},
   "source": [
    "- Constant Time (O(1)): The function simply returns the first element of the array.\n",
    "\n",
    "- Linear Time (O(n)): The function iterates through the entire array and prints each element.\n",
    "\n",
    "- Quadratic Time (O(n²)): The function prints all possible pairs of items from the array by using a nested loop."
   ]
  }
 ],
 "metadata": {
  "kernelspec": {
   "display_name": "venv",
   "language": "python",
   "name": "python3"
  },
  "language_info": {
   "codemirror_mode": {
    "name": "ipython",
    "version": 3
   },
   "file_extension": ".py",
   "mimetype": "text/x-python",
   "name": "python",
   "nbconvert_exporter": "python",
   "pygments_lexer": "ipython3",
   "version": "3.12.5"
  }
 },
 "nbformat": 4,
 "nbformat_minor": 2
}

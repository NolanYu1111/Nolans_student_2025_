{
 "cells": [
  {
   "cell_type": "raw",
   "metadata": {
    "vscode": {
     "languageId": "raw"
    }
   },
   "source": [
    "---\n",
    "layout: post\n",
    "title: Sprint 2 Final Executive Summary \n",
    "description:  Executive Summary\n",
    "courses: { csp: {week 8} } \n",
    "comments: true\n",
    "sticky_rank: 1\n",
    "---"
   ]
  },
  {
   "cell_type": "markdown",
   "metadata": {},
   "source": [
    "## Summary Of My Learning during Sprint 2"
   ]
  },
  {
   "cell_type": "markdown",
   "metadata": {},
   "source": [
    "***My Learning***\n"
   ]
  },
  {
   "cell_type": "markdown",
   "metadata": {
    "vscode": {
     "languageId": "raw"
    }
   },
   "source": [
    "- In AP CSP, I’ve accomplished a lot, especially considering I didn’t have much coding experience before this class.\n",
    "I contributed significantly to our lessons by creating Python content for sections 3.7\n",
    "\n",
    "- One big lesson I learned was about collaboration and debugging. When Kush and I introduced our new homework hacks, we spent a lot of time fixing problems because our project’s file structure was different from the new system. Later, we realized that if we had asked the team who built the system for help, we could’ve solved it much faster.\n",
    "\n",
    "- On the technical side, I learned more about abstraction, which helps make my coding more efficient. I also learned to appreciate built-in functions, which save time and let me focus on other parts of the project.\n",
    "\n",
    "- In terms of personal contributions, I created a homework hack with a thourough explanation and dropdown, helped with the last two popcorn hacks, and made sure to turn in my assignments on time, with all of them having hours spent on them. I gave detailed feedback when grading, explaining the scores and how to improve and the glows ans grows.\n",
    "\n",
    "- Overall, I think my group did more than just the basics. We worked well together, divided tasks fairly, and made sure everyone contributed equally, which led to a successful project.\n"
   ]
  },
  {
   "cell_type": "markdown",
   "metadata": {},
   "source": [
    "| **Assignment**             | **Points**    | **Grade** | **Evidence** |\n",
    "|----------------------------|---------------|-----------|--------------|\n",
    "| Baseline Grade             | 55%           |  55%         |  Submitted all of my work on time and did everything thoroughly            |\n",
    "| Max Grade                  | 90%           |  87%         |  Reflected on the grades below            |\n",
    "| Pull Request (Integration) | 1             |   0.85       |  Our pull requests were late and not always in a timely manner           |\n",
    "| Relevancy Checklist (Peer) | 2             |  1.75         |  Our checklist was good and easy to follow for our peers.             |\n",
    "| Lesson Style (Period)      | 1             | 0.8           | https://kush1434.github.io/portfolio_2025/csp/big-idea/p2/3-7            |\n",
    "| Homework, Popcorn Hacks    | 1 x 5         | 5          |https://kush1434.github.io/portfolio_2025/csp/big-idea/p2/3-7-1            |\n",
    "| Individual Contribution    | 1             | 0.85          | https://kush1434.github.io/portfolio_2025/csp/big-idea/p2/3-7-1            |\n",
    "| Personal Notebooks / Blogs | 1             | 1          |  https://nolanyu1111.github.io/Nolans_student_2025_/            |\n",
    "| Total                      | 11            | 0.9          |             |\n",
    "\n",
    "\n",
    "\n",
    "\n",
    "| **Skill**                  | **Points**    | **Grade** | **Evidence** |\n",
    "|----------------------------|---------------|-----------|--------------|\n",
    "| Work Habits (Analytics)    |   1           | 0.9           | https://nighthawkcoders.github.io/portfolio_2025/analytics             |\n",
    "| Team Planning (Issue)      |   1           | 0.9          |  Worked on the Issue With my Scrump Master and helped my group members link their issues            |\n",
    "| Presentation Memories      |   1           | 0.85          |  Created a summary of what I learned on my blog             |\n",
    "| Grading and Feedback       |   1           | 0.9          |  Graded each homework thoroughly and gave feedback on what to do and what not to do             |\n",
    "| Beyond Perfunctory         |   1           | 0.85          | I believe I was beyond Perfunctory as I had numerous commits as well as contributed new ideas and worked well with my team             | "
   ]
  },
  {
   "cell_type": "markdown",
   "metadata": {},
   "source": [
    "***My Accomplishments***"
   ]
  },
  {
   "cell_type": "markdown",
   "metadata": {
    "vscode": {
     "languageId": "raw"
    }
   },
   "source": [
    "- Learning Java and Python: I’ve learned both Java and Python and successfully incorporated them into my code for different projects\n",
    "which has helped me improve my coding skills and broaden my understanding of programming.\n",
    "\n",
    "- Overcoming Presentation Fear: I’ve overcome my fear of presentations by actively participating in group presentations. \n",
    "Over time, I’ve gained more confidence in explaining concepts to my peers and speaking in front of an audience.\n",
    "\n",
    "- Collaborating with Peers: I’ve worked closely with my classmates, especially when it comes to solving problems and troubleshooting. \n",
    "Whether it was fixing code or figuring out technical issues, collaborating helped us find solutions faster and more efficiently.\n",
    "\n",
    "- Completing Homework and Popcorn Hacks: I’ve been thorough with my homework and popcorn hacks, \n",
    "ensuring that I put in the effort needed to earn a solid score of 0.88+ on each assignment, which has helped me stay consistent in my performance.\n",
    "\n",
    "- Staying Organized and On Schedule: I’ve managed to stay organized and keep on track with deadlines. \n",
    "I plan out my work carefully and ensure I’m always meeting the expectations of the course, which helps me stay on top of my responsibilities."
   ]
  },
  {
   "cell_type": "code",
   "execution_count": 8,
   "metadata": {
    "vscode": {
     "languageId": "html"
    }
   },
   "outputs": [
    {
     "ename": "SyntaxError",
     "evalue": "invalid decimal literal (3805894375.py, line 8)",
     "output_type": "error",
     "traceback": [
      "\u001b[0;36m  Cell \u001b[0;32mIn[8], line 8\u001b[0;36m\u001b[0m\n\u001b[0;31m    padding: 10px 20px;\u001b[0m\n\u001b[0m              ^\u001b[0m\n\u001b[0;31mSyntaxError\u001b[0m\u001b[0;31m:\u001b[0m invalid decimal literal\n"
     ]
    }
   ],
   "source": [
    "\n",
    "<html lang=\"en\">\n",
    "<head>\n",
    "    <meta charset=\"UTF-8\">\n",
    "    <meta name=\"viewport\" content=\"width=device-width, initial-scale=1.0\">\n",
    "    <title>Link Button</title>\n",
    "    <style>\n",
    "        .link-button {\n",
    "            display: inline-block;\n",
    "            padding: 10px 20px;\n",
    "            font-size: 16px;\n",
    "            color: white;\n",
    "            background-color: #007bff;\n",
    "            border: none;\n",
    "            border-radius: 5px;\n",
    "            text-align: center;\n",
    "            text-decoration: none;\n",
    "            cursor: pointer;\n",
    "        }\n",
    "        .link-button:hover {\n",
    "            background-color: #0056b3;\n",
    "        }\n",
    "    </style>\n",
    "</head>\n",
    "<body>\n",
    "\n",
    "    <a href=\"http://127.0.0.1:4100/Nolans_student_2025_/2024/10/16/finaloverview_IPYNB_2_.html\" class=\"link-button\">Go to Final Overview</a>\n",
    "\n",
    "</body>\n",
    "</html>\n"
   ]
  }
 ],
 "metadata": {
  "kernelspec": {
   "display_name": "venv",
   "language": "python",
   "name": "python3"
  },
  "language_info": {
   "codemirror_mode": {
    "name": "ipython",
    "version": 3
   },
   "file_extension": ".py",
   "mimetype": "text/x-python",
   "name": "python",
   "nbconvert_exporter": "python",
   "pygments_lexer": "ipython3",
   "version": "3.12.5"
  }
 },
 "nbformat": 4,
 "nbformat_minor": 2
}

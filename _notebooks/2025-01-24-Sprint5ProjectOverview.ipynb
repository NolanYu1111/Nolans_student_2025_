{
 "cells": [
  {
   "cell_type": "markdown",
   "metadata": {},
   "source": [
    "---\n",
    "layout: post\n",
    "title: Sprint 4 Review \n",
    "description: Review of all sprint 5\n",
    "comments: true\n",
    "sticky_rank: 1\n",
    "---"
   ]
  },
  {
   "cell_type": "markdown",
   "metadata": {},
   "source": [
    "## Project Cantella\n",
    "\n",
    "# Purpose Of Programming"
   ]
  },
  {
   "cell_type": "markdown",
   "metadata": {},
   "source": [
    "\n",
    "- All-in-One Platform: Combines flashcards, quizzes, and the Gemini Integrated Chattutor for academic success.\n",
    "\n",
    "- Personalized Learning: Adapts to different styles with visual aids, step-by-step help, or quick answers.\n",
    "\n",
    "- Collaborative Tools: Supports group work and resource sharing for better teamwork.\n",
    "\n",
    "- Self-Paced Learning: Tracks progress and offers tailored recommendations to keep students on track.\n",
    "\n",
    "- Accessible Anytime: Provides high-quality learning support anywhere, anytime, for all schedules and goals."
   ]
  },
  {
   "cell_type": "markdown",
   "metadata": {},
   "source": [
    "- 24/7 Personal Tutor: Always available to help with academic questions, from quick answers to detailed explanations.\n",
    "\n",
    "- Personalized Learning: Adapts to your style and level, making it feel tailored to you.\n",
    "\n",
    "- Time-Saving: No need to search textbooks or websites—answers are instant and reliable.\n",
    "\n",
    "- Affordable Access: High-quality tutoring made accessible for everyone.\n",
    "\n",
    "- Future Enhancements: Could include answer ratings, visuals (charts/videos), and adjustable difficulty levels.\n",
    "\n",
    "- Ultimate Study Tool: Makes learning easy, fun, and super effective, helping students succeed."
   ]
  },
  {
   "cell_type": "markdown",
   "metadata": {},
   "source": [
    "## Input/Output Requests"
   ]
  },
  {
   "cell_type": "markdown",
   "metadata": {},
   "source": [
    "Live Review: I will demonstrate asking \"CanTeach\" a math question and the response being outputted to the backend"
   ]
  },
  {
   "cell_type": "markdown",
   "metadata": {},
   "source": [
    "<img src=\"{{site.baseurl}}/images/cantella_image.png\" alt=\"Cantella Image\" style=\"width:100%; max-width:600px;\">"
   ]
  },
  {
   "cell_type": "markdown",
   "metadata": {},
   "source": [
    "------"
   ]
  },
  {
   "cell_type": "markdown",
   "metadata": {},
   "source": [
    "Upon running db_init, restore, and backup, the data from the ratings table remains constant."
   ]
  },
  {
   "cell_type": "markdown",
   "metadata": {},
   "source": [
    "<img src=\"{{site.baseurl}}/images/cantella_backend.png\" alt=\"Cantella Image\" style=\"width:100%; max-width:600px;\">"
   ]
  },
  {
   "cell_type": "code",
   "execution_count": null,
   "metadata": {},
   "outputs": [],
   "source": [
    "if __name__ == \"__main__\":\n",
    "    if not app.debug or os.environ.get(\"WERKZEUG_RUN_MAIN\") == \"true\":\n",
    "        with app.app_context():\n",
    "            db.create_all()  # Ensure tables are created before initialization\n",
    "            if not User.query.first():  # Initialize only if no users exist\n",
    "                initUsers()\n",
    "            if not Flashcard.query.first():  # Initialize flashcards only if none exist\n",
    "                initFlashcards()\n",
    "            if not GradeLog.query.first():  # Initialize grade logs only if none exist\n",
    "                initGradeLog()\n",
    "            if not Profile.query.first():  # Initialize profiles only if none exist\n",
    "                initProfiles()\n",
    "            if not Deck.query.first():  # Initialize decks only if none exist\n",
    "                initDecks()\n",
    "    app.run(debug=True, host=\"0.0.0.0\", port=\"8887\")"
   ]
  },
  {
   "cell_type": "markdown",
   "metadata": {},
   "source": [
    "## List Requests"
   ]
  },
  {
   "cell_type": "markdown",
   "metadata": {},
   "source": [
    "Use of List, Dictionaries, and Database"
   ]
  },
  {
   "cell_type": "markdown",
   "metadata": {},
   "source": [
    "Code Description:\n",
    "\n",
    "- Lists: Used to manage user interests.\n",
    "\n",
    "- Dictionaries: Used to handle JSON data in API requests and responses.\n",
    "\n",
    "- Database: Used to store user data, including interests."
   ]
  },
  {
   "cell_type": "markdown",
   "metadata": {},
   "source": [
    "## Formatting Response Data (JSON) from API into DOM:"
   ]
  },
  {
   "cell_type": "code",
   "execution_count": null,
   "metadata": {},
   "outputs": [],
   "source": [
    "const editButtons = document.querySelectorAll('.edit-button');\n",
    "\n",
    "editButtons.forEach(button => {\n",
    "    button.addEventListener('click', async function() {\n",
    "        // Get the tutor ID (e.g., a unique identifier for CanTeach sessions)\n",
    "        const tutorId = this.getAttribute('data-id');\n",
    "\n",
    "        // Fetch tutor-related data from the API\n",
    "        try {\n",
    "            const response = await fetch(`/api/tutors/${tutorId}`);\n",
    "            if (!response.ok) {\n",
    "                throw new Error(`Failed to fetch data for tutor ID: ${tutorId}`);\n",
    "            }\n",
    "\n",
    "            // Parse the JSON response\n",
    "            const tutorData = await response.json();\n",
    "\n",
    "            // Format and insert data into the DOM dynamically\n",
    "            document.getElementById('tutorName').textContent = tutorData.name || 'Unknown Tutor';\n",
    "            document.getElementById('tutorSpecialty').textContent = tutorData.specialty || 'No specialty provided';\n",
    "            document.getElementById('tutorStatus').textContent = tutorData.available ? 'Available' : 'Unavailable';\n",
    "\n",
    "            // Example: Update a chatbox intro message dynamically\n",
    "            const chatboxIntro = document.getElementById('chatboxIntro');\n",
    "            chatboxIntro.textContent = `Welcome to your session with ${tutorData.name}, an expert in ${tutorData.specialty}!`;\n",
    "\n",
    "            // Set hidden input fields if needed (e.g., for updating tutor settings later)\n",
    "            document.getElementById('tutorId').value = tutorId;\n",
    "            document.getElementById('tutorAvailable').value = tutorData.available.toString();\n",
    "\n",
    "        } catch (error) {\n",
    "            console.error('Error fetching tutor data:', error);\n",
    "            alert('An error occurred while loading tutor information.');\n",
    "        }\n",
    "    });\n",
    "});\n"
   ]
  },
  {
   "cell_type": "markdown",
   "metadata": {},
   "source": [
    "## Queries from database"
   ]
  },
  {
   "cell_type": "code",
   "execution_count": null,
   "metadata": {},
   "outputs": [],
   "source": [
    "def get(self):\n",
    "    topic = request.args.get('topic')  # Extract the topic from the query parameter\n",
    "    if not topic:\n",
    "        return {'message': 'Topic parameter is required'}, 400\n",
    "\n",
    "    try:\n",
    "        tutors = db_session.query(Tutor).filter(Tutor.topics_of_expertise.any(topic)).all()\n",
    "\n",
    "        if not tutors:\n",
    "            return {'message': f'No tutors found specializing in {topic}'}, 404\n",
    "\n",
    "        tutor_list = [\n",
    "            {\n",
    "                'id': tutor.id,\n",
    "                'name': tutor.name,\n",
    "                'experience': tutor.experience_years,\n",
    "                'rating': tutor.average_rating\n",
    "            }\n",
    "            for tutor in tutors\n",
    "        ]\n",
    "        return jsonify(tutor_list)\n",
    "\n",
    "    except Exception as e:\n",
    "        return {'message': 'An error occurred while fetching tutors', 'error': str(e)}, 500\n"
   ]
  },
  {
   "cell_type": "markdown",
   "metadata": {},
   "source": [
    "## Methods in class to Work with Columns:"
   ]
  },
  {
   "cell_type": "code",
   "execution_count": null,
   "metadata": {},
   "outputs": [],
   "source": [
    "class TopicsAPI:\n",
    "    class _CRUD(Resource):\n",
    "        @token_required()\n",
    "        def post(self):\n",
    "            \"\"\"\n",
    "            Add new topics of expertise to the authenticated tutor.\n",
    "            \"\"\"\n",
    "            current_tutor = g.current_user  # Assume current authenticated tutor is stored here\n",
    "            body = request.get_json()\n",
    "            new_topics = body.get('topics')\n",
    "\n",
    "            if not new_topics:\n",
    "                return {'message': 'No topics provided'}, 400\n",
    "\n",
    "            # Add new topics to the tutor's topics_of_expertise column\n",
    "            current_tutor.topics_of_expertise.extend(new_topics)  # Assuming this is a list relationship\n",
    "            db_session.commit()\n",
    "\n",
    "            return jsonify({'message': 'Topics added successfully', 'topics': current_tutor.topics_of_expertise})\n",
    "\n",
    "        @token_required()\n",
    "        def get(self):\n",
    "            \"\"\"\n",
    "            Retrieve the topics of expertise for the authenticated tutor.\n",
    "            \"\"\"\n",
    "            current_tutor = g.current_user\n",
    "            return jsonify({'topics': current_tutor.topics_of_expertise})\n",
    "\n",
    "        @token_required()\n",
    "        def put(self):\n",
    "            \"\"\"\n",
    "            Update the topics of expertise for the authenticated tutor.\n",
    "            \"\"\"\n",
    "            current_tutor = g.current_user\n",
    "            body = request.get_json()\n",
    "            updated_topics = body.get('topics')\n",
    "\n",
    "            if not updated_topics:\n",
    "                return {'message': 'No topics provided'}, 400\n",
    "\n",
    "            # Replace current topics with new ones\n",
    "            current_tutor.topics_of_expertise = updated_topics\n",
    "            db_session.commit()\n",
    "\n",
    "            return jsonify({'message': 'Topics updated successfully', 'topics': current_tutor.topics_of_expertise})\n",
    "\n",
    "        @token_required()\n",
    "        def delete(self):\n",
    "            \"\"\"\n",
    "            Delete specific topics from the authenticated tutor.\n",
    "            \"\"\"\n",
    "            current_tutor = g.current_user\n",
    "            body = request.get_json()\n",
    "            topics_to_remove = body.get('topics')\n",
    "\n",
    "            if not topics_to_remove:\n",
    "                return {'message': 'No topics provided for deletion'}, 400\n",
    "\n",
    "            # Remove topics from the list\n",
    "            current_tutor.topics_of_expertise = [\n",
    "                topic for topic in current_tutor.topics_of_expertise if topic not in topics_to_remove\n",
    "            ]\n",
    "            db_session.commit()\n",
    "\n",
    "            return jsonify({'message': 'Topics deleted successfully', 'topics': current_tutor.topics_of_expertise})"
   ]
  },
  {
   "cell_type": "markdown",
   "metadata": {},
   "source": [
    "Explanation: \n",
    "\n",
    "- Class Overview: TopicsAPI._CRUD provides CRUD operations for managing a tutor's topics of expertise, including adding, retrieving, updating, and deleting topics.\n",
    "\n",
    "- POST Method: Accepts a list of new topics from the request body, adds them to the tutor's current list, and commits the changes to the database.\n",
    "\n",
    "- GET Method: Retrieves and returns the authenticated tutor's current list of expertise topics in JSON format.\n",
    "\n",
    "- PUT Method: Replaces the tutor's entire list of topics with a new list provided in the request body and saves the changes.\n",
    "\n",
    "- DELETE Method: Removes specific topics from the tutor's list of expertise based on the request data and updates the database."
   ]
  },
  {
   "cell_type": "markdown",
   "metadata": {},
   "source": [
    "## Algorithmic Code Request"
   ]
  },
  {
   "cell_type": "markdown",
   "metadata": {},
   "source": [
    "## Definition of Code Blocks to Handle a Request"
   ]
  },
  {
   "cell_type": "markdown",
   "metadata": {},
   "source": [
    "API Class to Perform CRUD Methods:"
   ]
  },
  {
   "cell_type": "code",
   "execution_count": null,
   "metadata": {},
   "outputs": [],
   "source": [
    "class SubjectsAPI:\n",
    "    class _CRUD(Resource):\n",
    "        @token_required()\n",
    "        def post(self):\n",
    "            \"\"\"\n",
    "            Add new subjects to the authenticated tutor.\n",
    "            \"\"\"\n",
    "            current_tutor = g.current_user\n",
    "            body = request.get_json()\n",
    "            new_subjects = body.get('subjects')\n",
    "\n",
    "            if not new_subjects:\n",
    "                return {'message': 'No subjects provided'}, 400\n",
    "\n",
    "            # Add new subjects to the tutor's list\n",
    "            current_tutor.subjects = current_tutor.subjects + new_subjects if current_tutor.subjects else new_subjects\n",
    "            db_session.commit()\n",
    "\n",
    "            return jsonify({'message': 'Subjects added successfully', 'subjects': current_tutor.subjects})\n",
    "\n",
    "        @token_required()\n",
    "        def put(self):\n",
    "            \"\"\"\n",
    "            Update the subjects of the authenticated tutor.\n",
    "            \"\"\"\n",
    "            current_tutor = g.current_user\n",
    "            body = request.get_json()\n",
    "            updated_subjects = body.get('subjects')\n",
    "\n",
    "            if not updated_subjects:\n",
    "                return {'message': 'No subjects provided'}, 400\n",
    "\n",
    "            # Replace the tutor's current subjects with the new list\n",
    "            current_tutor.subjects = updated_subjects\n",
    "            db_session.commit()\n",
    "\n",
    "            return jsonify({'message': 'Subjects updated successfully', 'subjects': current_tutor.subjects})\n",
    "\n",
    "        @token_required()\n",
    "        def delete(self):\n",
    "            \"\"\"\n",
    "            Delete a specific subject from the authenticated tutor's expertise.\n",
    "            \"\"\"\n",
    "            current_tutor = g.current_user\n",
    "            body = request.get_json()\n",
    "\n",
    "            if not body or 'subject' not in body:\n",
    "                return {'message': 'No subject provided'}, 400\n",
    "\n",
    "            subject_to_delete = body.get('subject')\n",
    "\n",
    "            if subject_to_delete not in current_tutor.subjects:\n",
    "                return {'message': 'Subject not found'}, 404\n",
    "\n",
    "            # Remove the subject and update the database\n",
    "            current_tutor.subjects = [subject for subject in current_tutor.subjects if subject != subject_to_delete]\n",
    "            db_session.commit()\n",
    "\n",
    "            return jsonify({'message': 'Subject deleted successfully', 'subjects': current_tutor.subjects})\n",
    "\n",
    "        @token_required()\n",
    "        def get(self):\n",
    "            \"\"\"\n",
    "            Retrieve the subjects of expertise for the authenticated tutor.\n",
    "            \"\"\"\n",
    "            current_tutor = g.current_user\n",
    "            return jsonify({'subjects': current_tutor.subjects})\n"
   ]
  },
  {
   "cell_type": "markdown",
   "metadata": {},
   "source": [
    "Explaintion: \n",
    "\n",
    "- Class Purpose: SubjectsAPI._CRUD provides endpoints for authenticated tutors to manage their subjects of expertise (CRUD: Create, Read, Update, Delete).\n",
    "\n",
    "- POST Method: Adds new subjects to the tutor's expertise. If no subjects are provided, it returns an error message.\n",
    "\n",
    "- PUT Method: Replaces the tutor's existing subjects with a new list provided in the request. Ensures the list is valid before updating.\n",
    "\n",
    "- DELETE Method: Deletes a specific subject from the tutor's expertise list if it exists. If the subject is not found, it returns an error message.\n",
    "\n",
    "- GET Method: Retrieves and returns the current list of subjects the tutor specializes in as a JSON response."
   ]
  },
  {
   "cell_type": "markdown",
   "metadata": {},
   "source": [
    "## Method/Procedure in Class with Sequencing, Selection, and Iteration "
   ]
  },
  {
   "cell_type": "code",
   "execution_count": null,
   "metadata": {},
   "outputs": [],
   "source": [
    "@token_required()\n",
    "def delete(self):\n",
    "    \"\"\"\n",
    "    Remove a specified student from the authenticated tutor's assigned list.\n",
    "    \"\"\"\n",
    "    body = request.get_json()\n",
    "\n",
    "    # Selection: Check if the required data is provided in the request body\n",
    "    if not body or 'student_id' not in body:\n",
    "        return {'message': 'No student ID provided'}, 400\n",
    "\n",
    "    current_tutor = g.current_user  # Assume the current authenticated tutor\n",
    "    student_id_to_remove = body.get('student_id')\n",
    "\n",
    "    # Sequence: Retrieve the list of assigned students\n",
    "    assigned_students = current_tutor.assigned_students  # Assume this is a list of student IDs\n",
    "\n",
    "    # Selection: Check if the student ID exists in the tutor's assigned list\n",
    "    if student_id_to_remove not in assigned_students:\n",
    "        return {'message': 'Student not found in assigned list'}, 404\n",
    "\n",
    "    # Iteration: Remove the student by filtering the list\n",
    "    current_tutor.assigned_students = [\n",
    "        student_id for student_id in assigned_students if student_id != student_id_to_remove\n",
    "    ]\n",
    "\n",
    "    # Sequence: Save changes to the database\n",
    "    db_session.commit()\n",
    "\n",
    "    return {\n",
    "        'message': 'Student removed successfully',\n",
    "        'assigned_students': current_tutor.assigned_students\n",
    "    }\n"
   ]
  },
  {
   "cell_type": "markdown",
   "metadata": {},
   "source": [
    "Explanation: \n",
    "\n",
    "- Purpose: This method removes a specific student from the authenticated tutor's assigned list based on the student_id provided in the request.\n",
    "\n",
    "- Sequencing: The method fetches the request body, retrieves the tutor's assigned students list, removes the specified student, and commits the updated list to the database in sequential steps.\n",
    "\n",
    "- Selection: It checks if the student_id is provided in the request body and ensures that the student exists in the tutor’s assigned list before proceeding.\n",
    "\n",
    "- Iteration: A list comprehension iterates over the assigned_students list to filter out the student with the matching student_id.\n",
    "\n",
    "- Response: Returns a success message along with the updated list of assigned students if the operation completes successfully; otherwise, returns an appropriate error message."
   ]
  },
  {
   "cell_type": "markdown",
   "metadata": {},
   "source": [
    "## Parameters and Return Type\n",
    "\n",
    "Parameters:\n",
    "\n",
    "body: JSON object containing the interest to be deleted.\n",
    "\n",
    "Return Type:\n",
    "\n",
    "JSON response with a message indicating the result of the operation.\n"
   ]
  },
  {
   "cell_type": "markdown",
   "metadata": {},
   "source": [
    "## Call to Algorithm Request"
   ]
  },
  {
   "cell_type": "markdown",
   "metadata": {},
   "source": [
    "## Definition of Code Block to Make a Request\n",
    "\n",
    "Frontend Fetch to Endpoint:"
   ]
  },
  {
   "cell_type": "code",
   "execution_count": null,
   "metadata": {},
   "outputs": [],
   "source": [
    "async function deleteSubject(subject) {\n",
    "    try {\n",
    "        const response = await fetch(pythonURI + \"/api/subjects\", {\n",
    "            ...fetchOptions,\n",
    "            method: 'DELETE',\n",
    "            body: JSON.stringify({ subject: subject })\n",
    "        });\n",
    "\n",
    "        if (!response.ok) {\n",
    "            throw new Error('Failed to delete subject');\n",
    "        }\n",
    "\n",
    "        // Provide feedback to the user\n",
    "        showError('Subject deleted successfully', 'green');\n",
    "        updateTutorInfo(); // Refresh the tutor's information (e.g., subject list)\n",
    "    } catch (error) {\n",
    "        console.error('Error deleting subject:', error);\n",
    "        showError('Error deleting subject');\n",
    "    }\n",
    "}\n",
    "\n",
    "window.deleteSubject = deleteSubject;\n"
   ]
  },
  {
   "cell_type": "markdown",
   "metadata": {},
   "source": [
    "Explanation:\n",
    "\n",
    "\n",
    "- Purpose: The deleteSubject function sends a DELETE request to the /api/subjects endpoint to remove a specific subject from the tutor's list of expertise.\n",
    "\n",
    "- API Interaction: It includes the subject to be deleted in the request body (formatted as JSON) and uses the fetch API to communicate with the backend.\n",
    "\n",
    "- Error Handling: If the response is not successful, the function throws an error, logs the issue to the console, and displays an error message to the user.\n",
    "\n",
    "- Success Feedback: On successful deletion, a success message is displayed to the user (e.g., \"Subject deleted successfully\"), and the tutor's updated information is fetched using the updateTutorInfo() function.\n",
    "\n",
    "- Global Functionality: The function is assigned to the window object, making it globally accessible and callable from other parts of the application, such as a \"Delete\" button in the UI.\n"
   ]
  },
  {
   "cell_type": "markdown",
   "metadata": {},
   "source": [
    "## Discuss the Call/Request to the Method with Algorithm\n",
    "\n",
    "Call/Request:\n",
    "\n",
    "- The deleteInterest function is responsible for sending a DELETE request to the /api/interests endpoint. It includes the specific interest to be removed as part of the request.\n",
    "\n",
    "Return/Response:\n",
    "\n",
    "- The response from the backend is handled by checking the status code and updating the UI accordingly."
   ]
  },
  {
   "cell_type": "markdown",
   "metadata": {},
   "source": [
    "## Handling Data and Error Conditions\n",
    "Normal Conditions:\n",
    "\n",
    "- The interest is successfully deleted, and the UI is updated to reflect the change.\n",
    "\n",
    "Error Conditions:\n",
    "\n",
    "- If the interest is not found or the request fails, an error message is displayed."
   ]
  }
 ],
 "metadata": {
  "language_info": {
   "name": "python"
  }
 },
 "nbformat": 4,
 "nbformat_minor": 2
}

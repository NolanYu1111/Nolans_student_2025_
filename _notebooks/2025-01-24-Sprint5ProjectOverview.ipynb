{
 "cells": [
  {
   "cell_type": "markdown",
   "metadata": {},
   "source": [
    "---\n",
    "layout: post\n",
    "title: Sprint 4 Review \n",
    "description: Review of all sprint 5\n",
    "comments: true\n",
    "sticky_rank: 1\n",
    "---"
   ]
  },
  {
   "cell_type": "markdown",
   "metadata": {},
   "source": [
    "## Project Cantella"
   ]
  },
  {
   "cell_type": "markdown",
   "metadata": {},
   "source": [
    "\n",
    "The purpose of our program, Canteach, is to create an all-in-one learning platform that makes studying easier, more efficient, and personalized for every student. It combines tools like flashcards, quizzes, and the Gemini Integrated Chattutor to provide a central hub for academic success.\n",
    "\n",
    "Canteach stands out by adapting to each student’s learning style, whether they need visual aids, step-by-step help, or quick answers. It’s designed to foster collaboration through resource-sharing and group tools, while also encouraging self-paced learning with progress tracking and personalized recommendations.\n",
    "\n",
    "Most importantly, Canteach makes high-quality learning accessible anytime, anywhere, ensuring that students always have the support they need to succeed—no matter their goals or schedule."
   ]
  },
  {
   "cell_type": "markdown",
   "metadata": {},
   "source": [
    "The Gemini Integrated Chattutor is such a cool feature of Canteach! It’s like having your own personal tutor, available 24/7 to help with just about any academic question. Whether you need a quick answer, a detailed explanation, or help figuring out something tricky, the Chattutor is there to make learning easier and less stressful.\n",
    "\n",
    "What’s great is how it adapts to you. It’s personalized, so it adjusts to your learning style and level, making it feel like it’s made just for you. It also saves you tons of time since you don’t have to dig through textbooks or random websites for answers. Plus, it’s affordable, which makes high-quality tutoring accessible to everyone.\n",
    "\n",
    "To make it even better, you could add some cool extras, like letting users rate answers so it learns and improves, using visuals like charts or videos to explain things, or even allowing you to pick a difficulty level (basic, intermediate, advanced) based on what you’re working on.\n",
    "\n",
    "Overall, the Chattutor turns Canteach into an amazing learning tool that’s all about helping students succeed in a way that’s easy, fun, and super effective."
   ]
  }
 ],
 "metadata": {
  "language_info": {
   "name": "python"
  }
 },
 "nbformat": 4,
 "nbformat_minor": 2
}

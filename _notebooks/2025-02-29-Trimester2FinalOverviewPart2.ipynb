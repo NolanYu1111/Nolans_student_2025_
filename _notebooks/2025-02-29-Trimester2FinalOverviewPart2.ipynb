{
 "cells": [
  {
   "cell_type": "markdown",
   "metadata": {},
   "source": [
    "---\n",
    "layout: post\n",
    "title: Trimester 2 Final Review (12 Weeks) - Full Stack Development\n",
    "description: Review of 5 major things I did the last 12 weeks of Tri 2 - Full Stack Development\n",
    "comments: true\n",
    "sticky_rank: 1\n",
    "---"
   ]
  },
  {
   "cell_type": "markdown",
   "metadata": {},
   "source": [
    "Will be showing full demo during live review"
   ]
  },
  {
   "cell_type": "markdown",
   "metadata": {},
   "source": [
    "<img src=\"{{site.baseurl}}/images/Screenshot 2025-03-03 at 12.52.28 AM.png\" alt=\"Cantella Image\" style=\"width:100%; max-width:600px;\">"
   ]
  },
  {
   "cell_type": "markdown",
   "metadata": {},
   "source": [
    "Quick Overview Of our data:\n",
    "\n",
    "The feedback we received showed that we performed excellently in every category where we collected data. Our project is well-executed and polished. One area for improvement highlighted by others was our presentation skills; people suggested making the presentation flow more smoothly and having everyone participate instead of just a few individuals. There were no specific feature-related comments except for the recommended cars feature, which someone felt needed improvement and more color. However, others mentioned that the project, overall, was very complete and visually appealing, although the navigation was a bit confusing. In summary, N@TM was a success, and we gained valuable insights from the experience."
   ]
  },
  {
   "cell_type": "markdown",
   "metadata": {},
   "source": [
    "<img src=\"{{site.baseurl}}/images/Screenshot 2025-03-03 at 10.38.49 AM.png\" alt=\"Cantella Image\" style=\"width:100%; max-width:600px;\">\n",
    "\n",
    "me presenting our full stack development at N@TM"
   ]
  },
  {
   "cell_type": "markdown",
   "metadata": {},
   "source": [
    "**Review Of Other Projects at N@TM**\n",
    "\n",
    "1. Gavin Copley and his \"Vin\" Feature\n",
    "\n",
    "- When I was talking to Gavin about his VIN feature, I noticed a lot of similarities between it and my ChatTutor feature, especially in how both use the Gemini API. For Gavin’s VIN feature, he’s using the API to store and retrieve car information based on user input, which allows users to interact with the system and get detailed vehicle data. Similarly, my ChatTutor uses the Gemini API to handle user queries, process them, and generate responses.\n",
    "\n",
    "- Both features rely on the API to perform core tasks, making them interconnected within the Gemini ecosystem. While Gavin's feature focuses on VIN data and my feature focuses on homework assistance, the underlying use of the Gemini API as the backbone for both systems provides a consistent and efficient way for users to engage with both functionalities. It was interesting to see how we are both leveraging the same technology to create interactive, user-driven features."
   ]
  },
  {
   "cell_type": "markdown",
   "metadata": {},
   "source": [
    "<img src=\"{{site.baseurl}}/images/Screenshot 2025-03-03 at 10.33.07 AM.png\" alt=\"Cantella Image\" style=\"width:100%; max-width:600px;\">"
   ]
  },
  {
   "cell_type": "markdown",
   "metadata": {},
   "source": [
    "2. Jonah Luo and his \"Club Creator\" Feature\n",
    "\n",
    "- I had a conversation with a kid named Jonah about his \"Club Create\" feature, and I was really impressed with how it works. His feature allows users to create a blog by simply submitting a form. The form collects relevant information, and once submitted, it automatically generates the blog post. I thought this was a really neat way to simplify the process for users, and it makes content creation much more accessible.\n",
    "\n",
    "- During our conversation, I gave Jonah a few recommendations and suggestions for improvements. One idea I had was to add more customization options to the form, so users could tailor the blog post to their needs even more. I also suggested including a preview feature so users could see how their blog would look before submitting it. Overall, Jonah’s project has great potential, and I think with these improvements, it could really enhance the user experience and make the process even more intuitive."
   ]
  },
  {
   "cell_type": "markdown",
   "metadata": {},
   "source": [
    "<img src=\"{{site.baseurl}}/images/Screenshot 2025-03-03 at 10.44.00 AM.png\" alt=\"Cantella Image\" style=\"width:100%; max-width:600px;\">"
   ]
  },
  {
   "cell_type": "markdown",
   "metadata": {},
   "source": [
    "3. Max Gaudinez and his \"stats page\" Feature \n",
    "\n",
    "- I had a discussion with a kid named Max about his feature, which involves a stats page. He did a great job integrating both the frontend and backend for the feature. The stats page displays various metrics, and Max’s approach allows the data to be dynamically pulled from the backend and displayed on the frontend. This integration ensures that the stats page is both functional and responsive, providing real-time data to users.\n",
    "\n",
    "- In addition to the stats page, Max also created a review page where users can leave feedback. I thought this was a fantastic addition, as it allows users to share their thoughts and provides valuable insights for improvement. During our conversation, I complimented him on the work he’s done so far and gave a few suggestions. I recommended adding more interactive elements to the stats page, such as graphs or charts, to visually represent the data. I also suggested implementing a way to sort or filter reviews, which would make the review page even more user-friendly. Max’s feature is coming along really well, and I’m excited to see how it develops further with these improvements."
   ]
  },
  {
   "cell_type": "markdown",
   "metadata": {},
   "source": [
    "<img src=\"{{site.baseurl}}/images/Screenshot 2025-03-03 at 10.48.54 AM.png\" alt=\"Cantella Image\" style=\"width:100%; max-width:600px;\">"
   ]
  },
  {
   "cell_type": "markdown",
   "metadata": {},
   "source": [
    "Lastly, Interview with Kush Shah and his \"x\" Feature\n",
    "\n",
    "- "
   ]
  },
  {
   "cell_type": "markdown",
   "metadata": {},
   "source": []
  }
 ],
 "metadata": {
  "language_info": {
   "name": "python"
  }
 },
 "nbformat": 4,
 "nbformat_minor": 2
}

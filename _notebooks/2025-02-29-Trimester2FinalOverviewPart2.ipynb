{
 "cells": [
  {
   "cell_type": "markdown",
   "metadata": {},
   "source": [
    "---\n",
    "layout: post\n",
    "title: Trimester 2 Final Review (12 Weeks) - Full Stack Development\n",
    "description: Review of 5 major things I did the last 12 weeks of Tri 2 - Full Stack Development\n",
    "comments: true\n",
    "sticky_rank: 1\n",
    "---"
   ]
  },
  {
   "cell_type": "markdown",
   "metadata": {},
   "source": [
    "Will be showing full demo during live review"
   ]
  },
  {
   "cell_type": "markdown",
   "metadata": {},
   "source": [
    "<img src=\"Screenshot 2025-03-03 at 12.52.28 AM.png\" alt=\"Cantella Image\" style=\"width:100%; max-width:600px;\">"
   ]
  },
  {
   "cell_type": "markdown",
   "metadata": {},
   "source": [
    "Quick Overview Of our data:\n",
    "\n",
    "The feedback we received showed that we performed excellently in every category where we collected data. Our project is well-executed and polished. One area for improvement highlighted by others was our presentation skills; people suggested making the presentation flow more smoothly and having everyone participate instead of just a few individuals. There were no specific feature-related comments except for the recommended cars feature, which someone felt needed improvement and more color. However, others mentioned that the project, overall, was very complete and visually appealing, although the navigation was a bit confusing. In summary, N@TM was a success, and we gained valuable insights from the experience."
   ]
  },
  {
   "cell_type": "markdown",
   "metadata": {},
   "source": [
    "add pics of team at N@TM"
   ]
  },
  {
   "cell_type": "markdown",
   "metadata": {},
   "source": []
  }
 ],
 "metadata": {
  "language_info": {
   "name": "python"
  }
 },
 "nbformat": 4,
 "nbformat_minor": 2
}

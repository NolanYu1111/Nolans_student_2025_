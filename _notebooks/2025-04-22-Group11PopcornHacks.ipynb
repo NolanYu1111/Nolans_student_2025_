{
 "cells": [
  {
   "cell_type": "markdown",
   "metadata": {},
   "source": [
    "---\n",
    "layout: post\n",
    "title: Group 11 Homework\n",
    "description: Undecideable Problems\n",
    "comments: true\n",
    "sticky_rank: 1\n",
    "---"
   ]
  },
  {
   "cell_type": "markdown",
   "metadata": {},
   "source": [
    "**Popcorn Hack 1**"
   ]
  },
  {
   "cell_type": "code",
   "execution_count": null,
   "metadata": {
    "vscode": {
     "languageId": "plaintext"
    }
   },
   "outputs": [],
   "source": [
    "- False\n",
    "\n",
    "Explanation:\n",
    "- An undecidable problem is one for which no algorithm can be written that will always provide\n",
    " a correct answer for all possible inputs. Therefore, it is impossible to solve \n",
    " an undecidable problem using any algorithm, regardless of its design."
   ]
  },
  {
   "cell_type": "markdown",
   "metadata": {},
   "source": [
    "**Popcorn Hack 2**"
   ]
  },
  {
   "cell_type": "markdown",
   "metadata": {},
   "source": [
    "- False\n",
    "\n",
    "Explanation:\n",
    "\n",
    "If a problem is undecidable, there is no algorithm that can solve it correctly in all cases. Even algorithms that work \"most of the time\" cannot be relied upon to give a correct result for all inputs, because undecidable problems are inherently unsolvable by algorithmic means."
   ]
  },
  {
   "cell_type": "markdown",
   "metadata": {},
   "source": [
    "**Popcorn Hack 3**"
   ]
  },
  {
   "cell_type": "markdown",
   "metadata": {},
   "source": [
    "D. Bubble sorting\n",
    "\n",
    "- D. Bubble sorting: This is not an undecidable problem. It is a well-known sorting algorithm, and it is decidable. It can always determine the sorted order of a list of elements."
   ]
  },
  {
   "cell_type": "markdown",
   "metadata": {},
   "source": [
    "**Homework Hack 1**"
   ]
  },
  {
   "cell_type": "markdown",
   "metadata": {},
   "source": [
    "Operating systems generally rely on resource management tools to detect and control processes that consume excessive CPU time or memory, which can occur in cases of infinite loops or long-running scripts.\n",
    "\n",
    "Process Scheduling and CPU Time Allocation:\n",
    "Operating systems like Windows, Linux, and macOS use process schedulers to allocate CPU time to running processes. If a process enters an infinite loop, the operating system might allow it to run for a certain time, but if the process consumes too much CPU time or system resources, it can be terminated or throttled. This is done through various monitoring mechanisms and resource limits.\n",
    "\n",
    "Resource Limits (e.g., ulimits on Linux):\n",
    "Linux-based systems have built-in tools such as ulimit that can restrict the amount of CPU time or memory a process can use. For example, setting a CPU time limit for a process ensures that any long-running or infinite-loop process is automatically terminated once it exceeds the limit.\n",
    "\n",
    "Timeouts and Watchdogs:\n",
    "Many operating systems implement watchdog timers for specific processes. These timers monitor the execution of long-running operations, and if the process takes too long, it is terminated or restarted. For example, a systemd service in Linux may be configured with a TimeoutSec directive, which forces a process to stop if it runs for too long."
   ]
  },
  {
   "cell_type": "markdown",
   "metadata": {},
   "source": [
    "**Heuristics**"
   ]
  },
  {
   "cell_type": "markdown",
   "metadata": {},
   "source": [
    "**Popcorn Hack 1**"
   ]
  },
  {
   "cell_type": "markdown",
   "metadata": {},
   "source": [
    "Explanation: In a directed graph, edges have a direction, meaning an edge from node A to node B does not necessarily imply the existence of an edge from node B to node A. Each edge is one-way, meaning the direction matters, and there is no requirement for the reverse direction to be present unless explicitly specified."
   ]
  },
  {
   "cell_type": "markdown",
   "metadata": {},
   "source": [
    "**Popcorn Hack 2**"
   ]
  },
  {
   "cell_type": "markdown",
   "metadata": {},
   "source": [
    "True\n",
    "\n",
    "Explanation: Heuristics are problem-solving techniques that aim to find good enough or approximate solutions to complex problems, often faster than exact algorithms. While heuristics can speed up the process by simplifying the problem-solving approach, they typically do sacrifice accuracy or optimality in exchange for speed. Exact algorithms, on the other hand, guarantee an optimal solution but may take much longer, especially for large or complex problems. Thus, heuristics generally provide faster solutions but with a trade-off in terms of solution quality or accuracy."
   ]
  },
  {
   "cell_type": "markdown",
   "metadata": {},
   "source": [
    "**Popcorn Hack 3**"
   ]
  },
  {
   "cell_type": "markdown",
   "metadata": {},
   "source": [
    "True\n",
    "\n",
    "Explanation: The Nearest Neighbor algorithm is a heuristic used to solve the Traveling Salesman Problem (TSP). While it significantly reduces the computational time compared to exact algorithms, it does not guarantee an optimal solution. The solution provided by the Nearest Neighbor algorithm is often a good approximation, but it is not guaranteed to be the best possible route.\n",
    "\n",
    "Additionally, as the number of cities increases, the gap between the heuristic solution and the optimal solution can indeed grow exponentially. This is because the Nearest Neighbor algorithm tends to make decisions based on local information, and as the problem size grows, these local decisions can lead to suboptimal global outcomes. Exact algorithms for TSP, such as branch-and-bound or dynamic programming, can guarantee the optimal solution but are much more computationally expensive."
   ]
  },
  {
   "cell_type": "markdown",
   "metadata": {},
   "source": [
    "**Homework Hack 1**"
   ]
  },
  {
   "cell_type": "markdown",
   "metadata": {},
   "source": [
    "- Social Network Analysis (SNA) is the process of analyzing social structures by representing them as networks. It focuses on understanding the relationships and interactions between individuals or entities, which are often referred to as nodes in graph theory, while the interactions or relationships between them are represented as edges.\n",
    "\n",
    "- Nodes (Vertices): In the context of social networks, the nodes represent the individual users or entities in the network. These can be people, organizations, or even other types of entities like products or media. Each node contains information about the user, such as their profile data, posts, or interactions.\n",
    "\n",
    "Edges (Links): The edges represent the relationships or interactions between the users. These relationships can vary depending on the platform and the nature of interaction. For example:\n",
    "\n",
    "Friendship or following relationships in platforms like Facebook and Twitter.\n",
    "\n",
    "Likes, comments, or shares on posts in Facebook, Instagram, or Twitter.\n",
    "\n",
    "Messaging relationships in platforms like WhatsApp or Telegram.\n",
    "\n",
    "Co-authorship or collaboration in professional networks like LinkedIn.\n",
    "\n",
    "These edges can be directed or undirected:\n",
    "\n",
    "Directed edges: For example, on Twitter, the edge from user A to user B indicates that A follows B, but not necessarily the other way around.\n",
    "\n",
    "Undirected edges: On Facebook, a mutual friendship between users A and B is represented by an undirected edge.\n",
    "\n",
    "- Facebook is an excellent example of how graph theory plays a crucial role in social media platforms. In Facebook:\n",
    "\n",
    "Users are represented as nodes.\n",
    "\n",
    "Friendship connections are represented as edges between users. These connections are undirected because if User A is friends with User B, the reverse is also true.\n",
    "\n",
    "Likes, comments, shares on posts can be considered additional forms of edges connecting users to content (e.g., a like on a post forms an edge between the user and the post)."
   ]
  }
 ],
 "metadata": {
  "language_info": {
   "name": "python"
  }
 },
 "nbformat": 4,
 "nbformat_minor": 2
}

{
 "cells": [
  {
   "cell_type": "markdown",
   "metadata": {},
   "source": [
    "---\n",
    "layout: post\n",
    "title: Group 2 Homework\n",
    "description: How do technological innovations impact society in both positive and negative ways?\n",
    "comments: true\n",
    "sticky_rank: 1\n",
    "---"
   ]
  },
  {
   "cell_type": "markdown",
   "metadata": {},
   "source": [
    "**MCQ Question 1**\n",
    "\n",
    "B & D\n",
    "\n",
    "I chose these answers because in order to reduce the digital divide, we need to be more inclusive and try to involve more people with techology. Both of these answers support my theory."
   ]
  },
  {
   "cell_type": "markdown",
   "metadata": {},
   "source": [
    "**MCQ Question 2**\n",
    "\n",
    "(B)\n",
    "\n",
    "Correct because making technology accessible ensures that more people, including those with disabilities, can use digital tools, reducing exclusion.\n",
    "\n",
    "(D) \n",
    "\n",
    "Correct because building network infrastructure (such as internet access in rural areas) expands digital access, helping bridge the divide.\n",
    "\n"
   ]
  },
  {
   "cell_type": "markdown",
   "metadata": {},
   "source": [
    "**Popcorn Hack**\n",
    "\n",
    "How to Fix the Digital Divide\n",
    "\n",
    "1️⃣ Expand Internet Access & Infrastructure\n",
    "\n",
    "Increase broadband coverage in underserved and rural areas.\n",
    "Provide free public Wi-Fi in schools, libraries, and community centers.\n",
    "Encourage government funding for network expansion projects.\n",
    "2️⃣ Affordable Technology & Devices\n",
    "\n",
    "Schools and organizations can provide students with laptops or tablets.\n",
    "Offer subsidized or low-cost internet plans for low-income families.\n",
    "Promote device donation and recycling programs to repurpose old technology.\n",
    "3️⃣ Digital Literacy & Education Programs\n",
    "\n",
    "Implement tech skills training in schools and community centers.\n",
    "Offer free online courses on digital literacy, coding, and cybersecurity.\n",
    "Provide workshops for older adults and low-income communities to teach digital skills.\n",
    "4️⃣ Make Technology Accessible for Everyone\n",
    "\n",
    "Design inclusive websites and apps that accommodate individuals with disabilities.\n",
    "Ensure that assistive technologies (screen readers, voice recognition) are available.\n",
    "Push for universal accessibility standards in digital services.\n",
    "\n",
    "\n",
    "What’s Already Being Done?\n",
    "\n",
    "✅ Government & Private Sector Efforts:\n",
    "\n",
    "The Affordable Connectivity Program (ACP) in the U.S. provides discounted internet for low-income families.\n",
    "Google and Facebook’s connectivity projects bring internet access to rural areas.\n",
    "Libraries & schools loan out devices like Chromebooks and hotspots to students.\n",
    "✅ Nonprofit & Community Initiatives:\n",
    "\n",
    "Organizations like One Laptop Per Child (OLPC) provide affordable laptops to students in developing countries.\n",
    "Tech training boot camps teach digital skills to underserved populations.\n",
    "✅ Local School & Library Programs:\n",
    "\n",
    "Many public schools now offer free Wi-Fi and computer access for students.\n",
    "Community centers provide coding and digital literacy workshops.\n",
    "\n",
    "What More Can Be Done? (New Solutions to Add)\n",
    "\n",
    "🔹 Public-Private Partnerships: Encourage tech companies to work with governments to expand digital inclusion programs.\n",
    "🔹 Municipal Broadband Networks: Cities can invest in local internet infrastructure to offer low-cost or free broadband.\n",
    "🔹 More Inclusive Digital Resources: Create multilingual and accessibility-friendly online content for diverse communities.\n",
    "🔹 Encourage More Device Donations: Companies can donate used but functional laptops to schools and nonprofits.\n",
    "🔹 AI & Tech for Accessibility: Develop more AI-driven tools (like voice-to-text, smart captions) to assist disabled individuals."
   ]
  },
  {
   "cell_type": "markdown",
   "metadata": {},
   "source": [
    "**Homework Hack**\n",
    "\n"
   ]
  },
  {
   "cell_type": "code",
   "execution_count": null,
   "metadata": {},
   "outputs": [],
   "source": [
    "\n",
    "import pandas as pd\n",
    "\n",
    "data = pd.read_csv(\"internet_users.csv\").drop(columns=['Notes', 'Year.2', 'Users (CIA)', 'Rate (ITU)', 'Year.1']) # Drop extra columns: we will not be using these\n",
    "\n",
    "data_cleaned = data.dropna() # Drop rows with NaN (aka blank) values\n",
    "\n",
    "print(data_cleaned.head()) # Display the first few rows of the cleaned data\n",
    "\n",
    "# print(len(data)) # Check num of rows before removing blank rows\n",
    "# print(len(data_cleaned)) # Check num of rows after removing blank rows\n",
    "     \n",
    "      Location  Rate (WB)    Year\n",
    "0        World       67.4  2023.0\n",
    "1  Afghanistan       18.4  2020.0\n",
    "2      Albania       83.1  2023.0\n",
    "3      Algeria       71.2  2022.0\n",
    "5      Andorra       94.5  2022.0\n",
    "\n",
    "y = data_cleaned['Rate (WB)'] # Take Percentage of the population using the internet from World Bank data in dataset\n",
    "name = data_cleaned['Location'] # take contry name from WB data in dataset\n",
    "\n",
    "# [INSERT YOUR CODE HERE]\n",
    "\n",
    "# Load and clean the dataset\n",
    "data = pd.read_csv(\"internet_users.csv\").drop(columns=['Notes', 'Year.2', 'Users (CIA)', 'Rate (ITU)', 'Year.1'])  # Drop extra columns\n",
    "data_cleaned = data.dropna()  # Remove rows with missing values\n",
    "\n",
    "# Extract relevant columns\n",
    "y = data_cleaned['Rate (WB)']  # Internet usage percentage\n",
    "name = data_cleaned['Location']  # Country name\n",
    "\n",
    "# Loop through the dataset and print required output\n",
    "for country, rate in zip(name, y):\n",
    "    if rate > 70:\n",
    "        print(f\"{country}: {rate}%: Doing great\")\n",
    "    else:\n",
    "        print(f\"{country}: {rate}%: Needs improvement\")\n"
   ]
  },
  {
   "cell_type": "markdown",
   "metadata": {},
   "source": [
    "I created a loop that iterates through both the 'Location' and 'Rate (WB)' columns using zip(), allowing us to access the country name and its corresponding internet usage percentage.\n",
    "\n",
    "Inside the loop, I used an if-else conditional (aka a Nested Conditional) to check if the internet usage percentage is above 70%. If it is, it prints \"Doing great\", otherwise, it prints \"Needs improvement\".\n",
    "\n",
    "The final output consists of formatted strings that display the country name, internet access rate, and performance status based on the given threshold."
   ]
  }
 ],
 "metadata": {
  "language_info": {
   "name": "python"
  }
 },
 "nbformat": 4,
 "nbformat_minor": 2
}

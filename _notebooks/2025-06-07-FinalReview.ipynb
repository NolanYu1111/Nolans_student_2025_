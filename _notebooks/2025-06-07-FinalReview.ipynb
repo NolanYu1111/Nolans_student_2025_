{
 "cells": [
  {
   "cell_type": "markdown",
   "metadata": {},
   "source": [
    "---\n",
    "layout: post\n",
    "title: Trimester 3 Final Review \n",
    "description: Review of Entire AP CSP\n",
    "comments: true\n",
    "sticky_rank: 1\n",
    "---"
   ]
  },
  {
   "cell_type": "markdown",
   "metadata": {},
   "source": [
    "**Final Review**"
   ]
  },
  {
   "cell_type": "markdown",
   "metadata": {},
   "source": [
    "This year in CSP has been an incredible learning experience. At the start, I had limited coding knowledge and often froze the first time an error popped up, but now I feel much more confident building projects. Wrestling with stubborn bugs and pushing through late-night debugging sessions taught me how to design solutions in code—and how to break big problems into bite-sized steps. Overcoming those early struggles didn’t just sharpen my technical skills; it reshaped the way I face challenges—analyzing them logically, experimenting creatively, and persevering until I succeed."
   ]
  },
  {
   "cell_type": "markdown",
   "metadata": {},
   "source": [
    "**Intrests**\n"
   ]
  },
  {
   "cell_type": "markdown",
   "metadata": {},
   "source": [
    "One topic I am most interested in is the field of BioMed & BioTech. I have always been fascinated by the world of bio-informatics and the processes of medical imageing. For me in general, I have come to realize wether I like it or not that coding is in many aspects of this. For example, BioInformatics using datascience such as database managment and API data integration.\n",
    "\n",
    "[Linkden](https://www.linkedin.com/in/nolan-yu-099370354/)"
   ]
  },
  {
   "cell_type": "markdown",
   "metadata": {},
   "source": [
    "I consider my work on Cantella to be my proudest achievement. Building this interactive study-tool website brought together all my CSP learnings and pushed me to level up. Working with a team of six under an AGILE framework taught me how to break down features, track progress, and adapt quickly. As the backend developer, I designed RESTful endpoints to manage personalized study modules, implemented full CRUD for user progress, and integrated third-party educational resources. Setting up secure authentication flows and deploying the service on AWS EC2 with Nginx showed me the end-to-end path from prototype to production. Tackling these challenges was rewarding and really underscored how much I’ve grown this year.\n",
    "\n",
    "Key Skills Developed:\n",
    "\n",
    "- Backend/API development & database modeling\n",
    "\n",
    "- Full CRUD implementation for dynamic user data\n",
    "\n",
    "- Integration of external educational content\n",
    "\n",
    "- Proactive problem-solving & initiative\n",
    "\n",
    "- Effective AGILE collaboration in a team\n",
    "\n",
    "- User authentication & security best practices\n",
    "\n",
    "- Cloud deployment & server configuration (AWS EC2 + Nginx)"
   ]
  },
  {
   "cell_type": "markdown",
   "metadata": {},
   "source": [
    "\n",
    "This year, I tackled every assignment with focus, mastering core algorithms and learning how to implement them in code using a variety of tools. That hands-on practice not only deepened my understanding but also prepared me for the AP exam in May. The examples below—and my scores—demonstrate the effort and growth I’ve achieved.\n",
    "\n",
    "\n",
    "<img src=\"{{site.baseurl}}/images/Screenshot 2025-06-09 at 10.45.03 PM.png\" alt=\"Image\" style=\"width:100%; max-width:600px;\">"
   ]
  },
  {
   "cell_type": "markdown",
   "metadata": {},
   "source": [
    "**Showcase Of Project**\n",
    "\n",
    "[Post](https://www.linkedin.com/feed/update/urn:li:activity:7338089669764546562/)\n",
    "\n",
    "Showcase of N@TM Project on Linkden\n"
   ]
  },
  {
   "cell_type": "markdown",
   "metadata": {},
   "source": [
    "**Statistics**"
   ]
  },
  {
   "cell_type": "markdown",
   "metadata": {},
   "source": [
    "\n",
    "My commit history tells the story of my growth this year: early on, commits piled up as I gained confidence, but as projects grew more complex—tackling tricky algorithms and diverse data types—each solution demanded more time and care. By the time I was building a lesson for Mr. Mort, every change went through rigorous testing before landing in the repository.\n",
    "\n",
    "<img src=\"{{site.baseurl}}/images/Screenshot 2025-06-09 at 11.31.39 PM.png\" alt=\"Image\" style=\"width:100%; max-width:600px;\">"
   ]
  },
  {
   "cell_type": "markdown",
   "metadata": {},
   "source": [
    "<img src=\"{{site.baseurl}}/images/Screenshot 2025-06-09 at 11.34.12 PM.png\" alt=\"Image\" style=\"width:100%; max-width:600px;\">\n",
    "\n",
    "\n",
    "\n",
    "Here I have issues and blogs that I use to keep myself organized and on task. These are combinations of my team teaches, blogs, and overall experiences I have gained over this year in CSP.\n",
    "\n",
    "\n"
   ]
  },
  {
   "cell_type": "markdown",
   "metadata": {},
   "source": [
    "Final Grade Predictor:\n",
    "\n",
    "<img src=\"{{site.baseurl}}/images/Screenshot 2025-06-09 at 11.44.33 PM.png\" alt=\"Image\" style=\"width:100%; max-width:600px;\">\n"
   ]
  }
 ],
 "metadata": {
  "language_info": {
   "name": "python"
  }
 },
 "nbformat": 4,
 "nbformat_minor": 2
}

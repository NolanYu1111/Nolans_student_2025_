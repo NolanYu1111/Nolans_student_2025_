{
 "cells": [
  {
   "cell_type": "markdown",
   "metadata": {},
   "source": [
    "---\n",
    "layout: post\n",
    "title: Group 5 Homework\n",
    "description: Safe Computing & Data Collection Team Teach\n",
    "comments: true\n",
    "sticky_rank: 1\n",
    "---"
   ]
  },
  {
   "cell_type": "markdown",
   "metadata": {},
   "source": [
    "**Popcorn Hack #1**"
   ]
  },
  {
   "cell_type": "markdown",
   "metadata": {},
   "source": [
    "A. Fingerprint\n",
    "\n",
    "Personally Identifiable Information (PII) refers to any data that can be used to uniquely identify an individual. A fingerprint is a unique biometric identifier, making it a form of PII.\n",
    "\n"
   ]
  },
  {
   "cell_type": "markdown",
   "metadata": {},
   "source": [
    "**Pop Quiz**"
   ]
  },
  {
   "cell_type": "markdown",
   "metadata": {},
   "source": [
    "D. A username required to log in.\n",
    "\n",
    "Explanation:\n",
    "Multifactor Authentication (MFA) requires users to verify their identity using at least two different factors from these categories:\n",
    "\n",
    "Something You Know – e.g., passwords, PINs.\n",
    "\n",
    "Something You Have – e.g., a security token, verification code sent to a phone.\n",
    "\n"
   ]
  },
  {
   "cell_type": "markdown",
   "metadata": {},
   "source": [
    "**Popcorn Hack #1**"
   ]
  },
  {
   "cell_type": "markdown",
   "metadata": {},
   "source": [
    "- Part of what makes a good password the complexity of it but also the length. The longer the password to harder it is to crack it. I talked to Brandom Smurlo about this and he did the same thing and seemed to agree."
   ]
  }
 ],
 "metadata": {
  "language_info": {
   "name": "python"
  }
 },
 "nbformat": 4,
 "nbformat_minor": 2
}

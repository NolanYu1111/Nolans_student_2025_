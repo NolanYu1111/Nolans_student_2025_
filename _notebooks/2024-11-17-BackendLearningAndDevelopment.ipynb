{
 "cells": [
  {
   "cell_type": "markdown",
   "metadata": {},
   "source": [
    "# Backend Development:"
   ]
  },
  {
   "cell_type": "markdown",
   "metadata": {},
   "source": [
    "I was in charge of the backend development, and heres how I did it. I ran db_init.py and db_migrate.py as first step to initiate and get data in the backend databases. I then ran the backend server and checked basic authentication url by using Postman. The API ran successfully in Postman and gave an authentication success Token. I was able to run /api/groups and /api/channels successfully in Postman as well."
   ]
  },
  {
   "cell_type": "markdown",
   "metadata": {},
   "source": [
    "I successfully used these 3 API calls back in my frontend and adding everything to a dropdown menu without issues using the JavaScript fetch to get all of the channels and groups."
   ]
  },
  {
   "cell_type": "code",
   "execution_count": null,
   "metadata": {
    "vscode": {
     "languageId": "javascript"
    }
   },
   "outputs": [],
   "source": [
    "#js\n",
    "const s = await fetch(`${pythonURI}/api/channels`, fetchOptions);\n",
    "            if (!s.ok) {\n",
    "                throw new Error('Failed to fetch channels: ' + s.statusText);\n",
    "            }\n",
    "            const g = await s.json();\n",
    "            const groupS = document.getElementById('channel_id');\n",
    "            g.forEach(group => {\n",
    "                const opt = document.createElement('option');\n",
    "                opt.value = group.id;\n",
    "                opt.textContent = group.name;\n",
    "                groupS.appendChild(opt);\n",
    "            });"
   ]
  },
  {
   "cell_type": "markdown",
   "metadata": {},
   "source": [
    "My biggest challenge was when I started using /api/posts. It kept giving me an error that the authentication is failing \"Error adding post: Failed to add post: UNAUTHORIZED\". I tried to resolve this my calling the /api/authenticate from my JavaScript and passing the credentials \"include\" in the fetchoptions as seen here:"
   ]
  },
  {
   "cell_type": "code",
   "execution_count": null,
   "metadata": {
    "vscode": {
     "languageId": "javascript"
    }
   },
   "outputs": [],
   "source": [
    "#js\n",
    "const response = await fetch(`${pythonURI}/api/post`, {\n",
    "                               method: 'POST',\n",
    "                              mode: 'cors', // no-cors, *cors, same-origin\n",
    "    cache: 'default', // *default, no-cache, reload, force-cache, only-if-cached\n",
    "    credentials: 'include', // include, same-origin, omit\n",
    "    headers: {\n",
    "        'Content-Type': 'application/json',\n",
    "        'X-Origin': 'client' // New custom header to identify source\n",
    "    },\n",
    "                body: JSON.stringify(postData)\n",
    "            });"
   ]
  },
  {
   "cell_type": "markdown",
   "metadata": {},
   "source": [
    "It turns out that the issue was needing to login first to get the authentication token and solve ths issue. After solving these issues, I was successfully able to connect my frontend and backend, and everytime a post was made, in my backend terminal, it would show something like this. Overall this exeperience helped me learn how to use fetch, Postman and authenticate a working backend."
   ]
  }
 ],
 "metadata": {
  "language_info": {
   "name": "python"
  }
 },
 "nbformat": 4,
 "nbformat_minor": 2
}

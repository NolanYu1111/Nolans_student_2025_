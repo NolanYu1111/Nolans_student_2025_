{
 "cells": [
  {
   "cell_type": "markdown",
   "metadata": {},
   "source": [
    "---\n",
    "layout: post\n",
    "title: Trimester 2 Final Review (12 Weeks)\n",
    "description: Review of 5 major things I did the last 12 weeks of Tri 2\n",
    "comments: true\n",
    "sticky_rank: 1\n",
    "---"
   ]
  },
  {
   "cell_type": "markdown",
   "metadata": {},
   "source": [
    "**1. Frontend Login Feature**\n",
    "\n",
    "- implemented secure access to our server \n",
    "- Sent a request for a token, if not fufilled then access denied.\n",
    "- The frontend sends a request (usually via HTTP POST) to the backend API with login details.\n",
    "- For every request to a protected resource, the frontend includes the token in the Authorization header (Bearer Token).\n",
    "The backend verifies the token before granting access.\n",
    "- 25 Total Frontend Commits\n",
    "\n",
    "- progress seen in scrum board: <img src=\"Screenshot 2025-03-03 at 12.07.18 AM.png\" alt=\"Cantella Image\" style=\"width:100%; max-width:600px;\">\n"
   ]
  },
  {
   "cell_type": "markdown",
   "metadata": {},
   "source": [
    "<img src=\"Screenshot 2025-03-02 at 11.51.27 PM.png\" alt=\"Cantella Image\" style=\"width:100%; max-width:600px;\">"
   ]
  },
  {
   "cell_type": "markdown",
   "metadata": {},
   "source": [
    "  **2. Chatbot API** \n",
    "\n",
    "  - Used Code to call Gemeni API in order to serve as a third party source to answer any questions\n",
    "  - One of the first aditions to our website\n",
    "  - Along the way added requests from postman to send and receieve requests in the backend\n",
    "  - Started to work on messages saving in the backend instead of just locally\n",
    "  - made requests save until deletion by user"
   ]
  },
  {
   "cell_type": "markdown",
   "metadata": {},
   "source": [
    "<img src=\"Screenshot 2025-03-03 at 12.03.11 AM.png\" alt=\"Cantella Image\" style=\"width:100%; max-width:600px;\">"
   ]
  },
  {
   "cell_type": "markdown",
   "metadata": {},
   "source": [
    "<img src=\"{{site.baseurl}}/images/cantella_image.png\" alt=\"Cantella Image\" style=\"width:100%; max-width:600px;\">"
   ]
  },
  {
   "cell_type": "markdown",
   "metadata": {},
   "source": [
    "**3. Gemini ChatBot Frontend Integration**\n",
    "\n",
    "- Handling User Input and Sending Questions to the Backend\n",
    "- The sendQuestion(question) function is responsible for:\n",
    "\n",
    "- Taking user input.\n",
    "- Displaying it in the chatbox.\n",
    "- Sending an API request to fetch a response from your Gemini chatbot.\n",
    "- Dynamically displaying the chatbot’s response.\n",
    "\n",
    "- sum up of all work seen in burndown list here: <img src=\"Screenshot 2025-03-03 at 12.20.30 AM.png\" alt=\"Cantella Image\" style=\"width:100%; max-width:600px;\">"
   ]
  },
  {
   "cell_type": "code",
   "execution_count": null,
   "metadata": {},
   "outputs": [],
   "source": [
    "async function sendQuestion(question) {\n",
    "  const chatBox = document.getElementById(\"chat-box\");\n",
    "\n",
    "  // Display user's question\n",
    "  chatBox.innerHTML += `\n",
    "    <div data-q=\"${question}\">\n",
    "      <strong>You:</strong>\n",
    "      <span class=\"question-text\">${question}</span>\n",
    "      <button onclick=\"deleteQ('${question}')\">Delete</button>\n",
    "      <button onclick=\"updateQ('${question}')\">Update</button>\n",
    "    </div>`;\n",
    "\n",
    "  // Send request to backend\n",
    "  const response = await fetch(`${pythonURI}/api/ai/help`, {\n",
    "    ...fetchOptions,\n",
    "    method: \"POST\",\n",
    "    body: JSON.stringify({ question }),\n",
    "  });\n",
    "\n",
    "  // Get chatbot response and display it\n",
    "  const data = await response.json();\n",
    "  const aiResponse = data.response || \"Error: Unable to fetch response.\";\n",
    "\n",
    "  chatBox.innerHTML += `\n",
    "    <div data-r=\"${question}\">\n",
    "      <strong>CanTeach:</strong>\n",
    "      <span class=\"response-text\">${aiResponse}</span>\n",
    "    </div>`;\n",
    "\n",
    "  document.getElementById(\"question\").value = \"\"; // Clear input field\n",
    "  chatBox.scrollTop = chatBox.scrollHeight; // Auto-scroll\n",
    "}\n"
   ]
  },
  {
   "cell_type": "markdown",
   "metadata": {},
   "source": [
    "- Retreiving Past Conversaitons using command fetchAllLogs()\n",
    "- Send a GET request to fetch all stored chatbot logs.\n",
    "- Parse and process the response.\n",
    "- Dynamically update the chat interface to display the retrieved conversation history."
   ]
  },
  {
   "cell_type": "code",
   "execution_count": null,
   "metadata": {},
   "outputs": [],
   "source": [
    "async function fetchAllLogs() {\n",
    "  const chatBox = document.getElementById(\"chat-box\");\n",
    "  chatBox.innerHTML = \"\"; // Clear chat logs\n",
    "\n",
    "  const response = await fetch(`${pythonURI}/api/ai/logs`, {\n",
    "    ...fetchOptions,\n",
    "    method: \"GET\",\n",
    "  });\n",
    "\n",
    "  const logs = await response.json();\n",
    "  logs.forEach((log) => {\n",
    "    const { question, response } = log;\n",
    "    chatBox.innerHTML += `\n",
    "      <div data-q=\"${question}\">\n",
    "        <strong>You:</strong>\n",
    "        <span class=\"question-text\">${question}</span>\n",
    "        <button onclick=\"deleteQ('${question}')\">Delete</button>\n",
    "        <button onclick=\"updateQ('${question}')\">Update</button>\n",
    "      </div>\n",
    "      <div data-r=\"${question}\">\n",
    "        <strong>CanTeach:</strong>\n",
    "        <span class=\"response-text\">${response}</span>\n",
    "      </div>`;\n",
    "  });\n",
    "}\n"
   ]
  },
  {
   "cell_type": "markdown",
   "metadata": {},
   "source": [
    "**4. ChatBot CRUD Options**\n",
    "\n",
    "- After developing working backend and frontend integration involving \"GET\" aka (R), started working on Update and Delete\n",
    "- Updating a question:\n",
    "- Uses a PUT request to modify an existing user query and updates both the question and response dynamically.\n",
    "- The function updateQ(oldQuestion) is triggered when the user clicks the \"Update\" button.\n",
    "- A prompt window appears, asking the user to enter a new version of their question.\n",
    "- If the user cancels or enters an empty string, the function exits early using return; (i.e., no update happens).\n"
   ]
  },
  {
   "cell_type": "code",
   "execution_count": null,
   "metadata": {},
   "outputs": [],
   "source": [
    "async function updateQ(oldQuestion) {\n",
    "  const newQuestion = prompt(\"Enter the updated question:\");\n",
    "  if (!newQuestion) return;\n",
    "\n",
    "  const response = await fetch(`${pythonURI}/api/ai/update`, {\n",
    "    ...fetchOptions,\n",
    "    method: \"PUT\",\n",
    "    body: JSON.stringify({ oldQuestion, newQuestion }),\n",
    "  });\n",
    "\n",
    "  const data = await response.json();\n",
    "  if (data.error) {\n",
    "    alert(`Error: ${data.error}`);\n",
    "    return;\n",
    "  }\n",
    "\n",
    "  // Update the DOM with the new question and response\n",
    "  const questionDiv = document.querySelector(`div[data-q=\"${oldQuestion}\"]`);\n",
    "  if (questionDiv) {\n",
    "    questionDiv.querySelector(\".question-text\").innerText = newQuestion;\n",
    "    questionDiv.setAttribute(\"data-q\", newQuestion);\n",
    "  }\n",
    "\n",
    "  const responseDiv = document.querySelector(`div[data-r=\"${oldQuestion}\"]`);\n",
    "  if (responseDiv) {\n",
    "    responseDiv.querySelector(\".response-text\").innerText = data.response;\n",
    "    responseDiv.setAttribute(\"data-r\", newQuestion);\n",
    "  }\n",
    "}\n"
   ]
  },
  {
   "cell_type": "markdown",
   "metadata": {},
   "source": [
    "<img src=\"Screenshot 2025-03-03 at 12.30.01 AM.png\" alt=\"Cantella Image\" style=\"width:100%; max-width:600px;\">"
   ]
  },
  {
   "cell_type": "markdown",
   "metadata": {},
   "source": [
    "- Delete Option Crud\n",
    "- The function deleteQ(question) is triggered when the \"Delete\" button is clicked.\n",
    "- The frontend sends a DELETE request to /api/ai/delete with the question in the request body.\n",
    "- The backend processes the request and removes the question-response pair from storage.\n",
    "- made model file to store all this code, works on deployed website"
   ]
  },
  {
   "cell_type": "code",
   "execution_count": null,
   "metadata": {},
   "outputs": [],
   "source": [
    "async function deleteQ(question) {\n",
    "  const response = await fetch(`${pythonURI}/api/ai/delete`, {\n",
    "    ...fetchOptions,\n",
    "    method: \"DELETE\",\n",
    "    body: JSON.stringify({ question }),\n",
    "  });\n",
    "\n",
    "  const questionDiv = document.querySelector(`div[data-q=\"${question}\"]`);\n",
    "  const responseDiv = questionDiv?.nextElementSibling; // Get next sibling (response)\n",
    "  if (questionDiv) questionDiv.remove();\n",
    "  if (responseDiv) responseDiv.remove();\n",
    "}\n"
   ]
  },
  {
   "cell_type": "markdown",
   "metadata": {},
   "source": [
    "**5. Crud Options In Backend**\n",
    "\n",
    "- Retrieving Update, Retrieves JSON data (oldQuestion, newQuestion).\n",
    "- Checks if both questions are provided; returns an error if missing.\n",
    "- Finds the existing log for oldQuestion in the database.\n",
    "- Generates a new response for newQuestion using the model.generate_content() method.\n",
    "- Updates the log with the new question and response.\n",
    "- Receive Data: The backend receives the PUT request with JSON data containing oldQuestion and newQuestion.\n",
    "- Validation: The backend checks if both oldQuestion and newQuestion are provided. If not, it sends an error response (400 Bad Request).\n",
    "\n"
   ]
  },
  {
   "cell_type": "code",
   "execution_count": null,
   "metadata": {},
   "outputs": [],
   "source": [
    "{\n",
    "  \"oldQuestion\": \"What is 2+2?\",\n",
    "  \"newQuestion\": \"What is 3+3?\"\n",
    "}\n",
    "\n",
    "{\"error\": \"Both old and new questions are required.\"}\n"
   ]
  },
  {
   "cell_type": "markdown",
   "metadata": {},
   "source": [
    "- Once the POST method was up and running, I wanted to implement the PUT method for updating questions. The idea was that if a user wanted to modify a previously asked question, they could do so and receive an updated response. Here's how I handled this:"
   ]
  },
  {
   "cell_type": "markdown",
   "metadata": {},
   "source": [
    "- It receives both the oldQuestion and newQuestion from the frontend.\n",
    "- It checks if the old question exists in the database.\n",
    "- It generates a new response for the updated question.\n",
    "- It updates the database with the new question and response.\n",
    "- It returns the updated response to the frontend.\n",
    "- This was a crucial step to allow users to modify questions and get fresh answers."
   ]
  },
  {
   "cell_type": "code",
   "execution_count": null,
   "metadata": {},
   "outputs": [],
   "source": [
    "@app.route('/api/ai/update', methods=['PUT'])\n",
    "def update_ai_question():\n",
    "    data = request.get_json()\n",
    "    old_question = data.get(\"oldQuestion\", \"\")\n",
    "    new_question = data.get(\"newQuestion\", \"\")\n",
    "    if not old_question or not new_question:\n",
    "        return jsonify({\"error\": \"Both old and new questions are required.\"}), 400\n",
    "    \n",
    "    # Fetch the old log\n",
    "    log = ChatLog.query.filter_by(_question=old_question).first()\n",
    "    if not log:\n",
    "        return jsonify({\"error\": \"Old question not found.\"}), 404\n",
    "    \n",
    "    try:\n",
    "        # Generate a new response for the new question\n",
    "        response = model.generate_content(f\"Your name is CanTeach. You are a homework help AI chatbot... Here is your prompt: {new_question}\")\n",
    "        new_response = response.text\n",
    "\n",
    "        # Update the database entry\n",
    "        log._question = new_question\n",
    "        log._response = new_response\n",
    "        db.session.commit()\n",
    "        return jsonify({\"response\": new_response}), 200\n",
    "    except Exception as e:\n",
    "        print(\"Error during update:\", e)\n",
    "        return jsonify({\"error\": str(e)}), 500\n"
   ]
  },
  {
   "cell_type": "markdown",
   "metadata": {},
   "source": [
    "- As the system grew, I realized it would be helpful to display the stored questions and responses to users. So, I added a GET method to fetch all the saved logs from the database and display them in the frontend. Here's how I implemented it:\n",
    "\n",
    "- Fetches all entries from the ChatLog table in the database.\n",
    "- Converts each log to a readable format and returns them as a JSON array.\n",
    "- The frontend can then display these logs in a table or a chat interface"
   ]
  },
  {
   "cell_type": "code",
   "execution_count": null,
   "metadata": {},
   "outputs": [],
   "source": [
    "@app.route('/api/ai/logs', methods=['GET'])\n",
    "def fetch_all_logs():\n",
    "    try:\n",
    "        logs = ChatLog.query.all()\n",
    "        return jsonify([log.read() for log in logs]), 200\n",
    "    except Exception as e:\n",
    "        print(\"Error fetching logs:\", e)\n",
    "        return jsonify({\"error\": str(e)}), 500\n"
   ]
  },
  {
   "cell_type": "markdown",
   "metadata": {},
   "source": [
    "- Finally, I added the DELETE method to allow users to remove specific questions and responses. If a user wanted to delete a question they previously asked, they could simply click a button, and the backend would delete it from the database. Here’s the code for that:\n",
    "\n",
    "- Takes the question to be deleted from the request body.\n",
    "- Searches for that question in the database.\n",
    "- If found, it deletes the log.\n",
    "- If not found, it returns an error message."
   ]
  },
  {
   "cell_type": "code",
   "execution_count": null,
   "metadata": {},
   "outputs": [],
   "source": [
    "@app.route(\"/api/ai/delete\", methods=[\"DELETE\"])\n",
    "def delete_ai_chat_logs():\n",
    "    data = request.get_json()\n",
    "    if not data:\n",
    "        return jsonify({\"error\": \"No data provided.\"}), 400\n",
    "    log = ChatLog.query.filter_by(_question=data.get(\"question\", \"\")).first()\n",
    "    if not log:\n",
    "        return jsonify({\"error\": \"Chat log not found.\"}), 404\n",
    "    log.delete()\n",
    "    return jsonify({\"response\": \"Chat log deleted\"}), 200\n"
   ]
  },
  {
   "cell_type": "markdown",
   "metadata": {},
   "source": [
    "**6. Role As Assistant Scrum-Master**"
   ]
  },
  {
   "cell_type": "markdown",
   "metadata": {},
   "source": [
    "As the Assistant Scrum Master, I worked closely with Xavier to keep our team on track and ensure we were making steady progress throughout the trimester. We took a hands-on approach in guiding the team and making sure everyone was aligned with our goals.\n",
    "\n",
    "I started by creating an issue (even though it was officially listed under Xavier's name) to clearly define everyone's roles and what we hoped to achieve by the end of the trimester. While Xavier officially created the issue, I was the one who took the time to break down each team member's responsibilities, so everyone knew exactly what was expected. Below the roles section, I added a brief overview outlining the key focus areas and goals for the team, helping us stay on the same page.\n",
    "\n",
    "In addition to clarifying roles, Xavier and I worked closely on the Kanban board to make sure tasks were getting done efficiently. We kept a close eye on progress and made sure everyone was staying on track with their work. By creating burndown charts, we were able to monitor our progress and adjust things as needed to keep moving forward.\n",
    "\n",
    "Through all of this, Xavier and I made sure to provide support and direction where needed, keeping communication clear and making sure everyone had what they needed to succeed. Together, we helped create an environment where everyone could contribute effectively, driving the team towards our shared goals.\n",
    "\n"
   ]
  },
  {
   "cell_type": "markdown",
   "metadata": {},
   "source": [
    "- Burndown List / Roles\n",
    "- https://github.com/users/XavierTho/projects/3?pane=issue&itemId=96847217&issue=XavierTho%7Ccantella_frontend%7C70 "
   ]
  },
  {
   "cell_type": "markdown",
   "metadata": {},
   "source": [
    "<img src=\"Screenshot 2025-03-03 at 12.46.08 AM.png\" alt=\"Cantella Image\" style=\"width:100%; max-width:600px;\">"
   ]
  }
 ],
 "metadata": {
  "language_info": {
   "name": "python"
  }
 },
 "nbformat": 4,
 "nbformat_minor": 2
}

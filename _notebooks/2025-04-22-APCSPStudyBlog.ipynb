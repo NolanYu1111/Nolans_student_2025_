{
 "cells": [
  {
   "cell_type": "markdown",
   "metadata": {},
   "source": [
    "---\n",
    "layout: post\n",
    "title: AP CSP Study Blog & MC\n",
    "description: Study Blog & MC\n",
    "comments: true\n",
    "sticky_rank: 1\n",
    "---"
   ]
  },
  {
   "cell_type": "markdown",
   "metadata": {},
   "source": [
    "**MC**\n",
    "\n",
    "Score: 57/70"
   ]
  },
  {
   "cell_type": "markdown",
   "metadata": {},
   "source": [
    "**MCQ Review**\n",
    "\n",
    "<img src=\"{{site.baseurl}}/images/Screenshot 2025-04-23 at 10.22.49 AM.png\" alt=\"Cantella Image\" style=\"width:100%; max-width:600px;\">\n",
    "\n",
    "It is not c, but a because the firsdt value is also assigned to 100, I thought it was set to 200\n",
    "\n",
    "<img src=\"{{site.baseurl}}/images/Screenshot 2025-04-23 at 10.24.09 AM.png\" alt=\"Cantella Image\" style=\"width:100%; max-width:600px;\">\n",
    "\n",
    "Just a miscalculation error, mis added the numbers, the answer is C, 4. \n",
    "\n",
    "<img src=\"{{site.baseurl}}/images/Screenshot 2025-04-23 at 10.25.06 AM.png\" alt=\"Cantella Image\" style=\"width:100%; max-width:600px;\">\n",
    "\n",
    "Didn't see it at the time, but there is no possibility it can return true because it will always be smaller, so there needs to be a return false instead."
   ]
  },
  {
   "cell_type": "markdown",
   "metadata": {
    "vscode": {
     "languageId": "plaintext"
    }
   },
   "source": [
    "Total Time Spent: 3hrs 33 minutes\n",
    "\n",
    "<img src=\"{{site.baseurl}}/images/Screenshot 2025-04-23 at 9.43.13 AM.png\" alt=\"Cantella Image\" style=\"width:100%; max-width:600px;\">"
   ]
  },
  {
   "cell_type": "markdown",
   "metadata": {},
   "source": [
    "**Topics I need to work on**\n",
    "\n",
    "- Variables & Assignments\n",
    "- Strings\n",
    "- Random Values\n",
    "- Calling Procedures\n",
    "  \n",
    "  "
   ]
  },
  {
   "cell_type": "markdown",
   "metadata": {},
   "source": [
    "**Study Plan**\n",
    "\n",
    "- 4/23 review groups 1-3 teamteach\n",
    "- 4/24 review groups 4-6 teamteach\n",
    "- 4/25 review groups 7-9 teamteach\n",
    "- 4/26 review groups 10-12 teamteach\n",
    "- 4/27 35 questions in 50 minutes, old AP CSP test\n",
    "- 4/28 finish rest of the 35 questions in 50 minutes\n",
    "- 4/29 Finalize CPT Project\n"
   ]
  },
  {
   "cell_type": "markdown",
   "metadata": {},
   "source": [
    "- [Beneficial Harmful Effects](https://nolanyu1111.github.io/Nolans_student_2025_/2025/03/20/Group1PopcornHack_IPYNB_2_.html)\n",
    "- [Digital Divide](https://nolanyu1111.github.io/Nolans_student_2025_/2025/03/21/Group2PopcornHack_IPYNB_2_.html)\n",
    "- [Computing Bias](https://nolanyu1111.github.io/Nolans_student_2025_/2025/03/24/Group3PopcornHack_IPYNB_2_.html)\n",
    "- [Crowdsourcing](https://nolanyu1111.github.io/Nolans_student_2025_/2025/03/25/Group4PopcornHacks_IPYNB_2_.html)\n",
    "- [Legal/Ethical Concerns](https://nolanyu1111.github.io/Nolans_student_2025_/2025/03/31/Group5PopcornHacks_IPYNB_2_.html)\n",
    "- [Safe Computing](https://nolanyu1111.github.io/Nolans_student_2025_/2025/04/02/Group6PopcornHacks_IPYNB_2_.html)\n",
    "- [Binary Search Algorithm](https://nolanyu1111.github.io/Nolans_student_2025_/2025/04/07/Group7Popcornhacks_IPYNB_2_.html)\n",
    "- [Lists and Filtering Algorithm](https://nolanyu1111.github.io/Nolans_student_2025_/2025/04/08/Group8Popcornhacks_IPYNB_2_.html)\n",
    "- [Simulation/Games and Random Algorithms](https://nolanyu1111.github.io/Nolans_student_2025_/2025/04/11/Group9Popcornhacks_IPYNB_2_.html)\n",
    "- [Big O and Algorithm Efficiency](https://nolanyu1111.github.io/Nolans_student_2025_/2025/04/21/Group10PopcornHacks_IPYNB_2_.html)\n",
    "- [Undecidable Problems, Graphs + Heuristics](https://nolanyu1111.github.io/Nolans_student_2025_/2025/04/22/Group11PopcornHacks_IPYNB_2_.html)\n"
   ]
  },
  {
   "cell_type": "markdown",
   "metadata": {},
   "source": [
    "***Review Topics***"
   ]
  },
  {
   "cell_type": "markdown",
   "metadata": {},
   "source": [
    "**Big Idea 1: Creative Development (13%)**\n",
    "\n",
    "- Meaningful names (e.g., stopButton).\n",
    "- Incremental: smaller pieces.\n",
    "- Iterative: prototypes, revise.\n",
    "- Event-driven: Responds to actions.\n",
    "- Input/Output: Data to/from computer.\n",
    "- Program: Instructions for device.\n",
    "- Documentation: Explains how program works."
   ]
  },
  {
   "cell_type": "markdown",
   "metadata": {},
   "source": [
    "**Big Idea 2: Data (22%)**\n",
    "\n",
    "- Decimal: Base 10 (0–9).\n",
    "- Binary: Base 2 (0 and 1).\n",
    "- Bit: Smallest unit (0 or 1).\n",
    "- Byte: 8 bits = 256 values.\n",
    "- Data Compression: Reduce size.\n",
    "- Lossless vs Lossy compression.\n",
    "- Analog vs Digital data (sampling).\n",
    "- Data cleaning, filtering, visualization.\n",
    "- Variables, lists, and types (int, string, bool)."
   ]
  },
  {
   "cell_type": "markdown",
   "metadata": {},
   "source": [
    "**Algorithims & Programing**\n",
    "\n",
    "- Boolean Operators: AND, OR, NOT.\n",
    "- IF-ELSE, nested conditionals.\n",
    "- Loops: While, Repeat Until (For).\n",
    "- Searching: Linear, Binary.\n",
    "- Procedures: Parameters, arguments, returns.\n",
    "- Algorithm: Sequence, selection, iteration.\n",
    "- Simulation models.\n",
    "- Efficiency: Polynomial vs exponential."
   ]
  },
  {
   "cell_type": "markdown",
   "metadata": {},
   "source": []
  }
 ],
 "metadata": {
  "language_info": {
   "name": "python"
  }
 },
 "nbformat": 4,
 "nbformat_minor": 2
}

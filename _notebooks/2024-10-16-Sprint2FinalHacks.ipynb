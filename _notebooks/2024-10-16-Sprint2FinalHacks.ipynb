{
 "cells": [
  {
   "cell_type": "raw",
   "metadata": {
    "vscode": {
     "languageId": "raw"
    }
   },
   "source": [
    "---\n",
    "toc: false\n",
    "layout: post\n",
    "courses: { compsci: {week: 6} }\n",
    "title: Final Hacks For Sprint 2\n",
    "description: Final Hacks For Sprint 2\n",
    "comments: true\n",
    "---"
   ]
  }
 ],
 "metadata": {
  "language_info": {
   "name": "python"
  }
 },
 "nbformat": 4,
 "nbformat_minor": 2
}

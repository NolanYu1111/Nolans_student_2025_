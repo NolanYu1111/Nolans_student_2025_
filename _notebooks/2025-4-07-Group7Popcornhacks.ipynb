{
 "cells": [
  {
   "cell_type": "markdown",
   "metadata": {},
   "source": [
    "---\n",
    "layout: post\n",
    "title: Group 7 Homework\n",
    "description: Binary Search Algorithms\n",
    "comments: true\n",
    "sticky_rank: 1\n",
    "---"
   ]
  },
  {
   "cell_type": "markdown",
   "metadata": {},
   "source": [
    "## Popcorn Hack 1 ##"
   ]
  },
  {
   "cell_type": "markdown",
   "metadata": {},
   "source": [
    "(C)\n",
    "\n",
    "The values need to be sorted in order for the binary search to work. "
   ]
  },
  {
   "cell_type": "markdown",
   "metadata": {},
   "source": [
    "## Popcorn Hack 2 ##"
   ]
  },
  {
   "cell_type": "markdown",
   "metadata": {},
   "source": [
    "(B)\n",
    "\n",
    "\n",
    "Binary search requires the list to be sorted, because it works by comparing the middle element to the target and narrowing down the search space based on that comparison. If the list is unsorted, the algorithm can’t correctly determine which half of the list to eliminate."
   ]
  },
  {
   "cell_type": "markdown",
   "metadata": {},
   "source": [
    "## Popcorn Hack 3 ##"
   ]
  },
  {
   "cell_type": "code",
   "execution_count": null,
   "metadata": {},
   "outputs": [],
   "source": [
    "def binary_search_letters(arr, target):\n",
    "    low = 0\n",
    "    high = len(arr) - 1\n",
    "\n",
    "    while low <= high:\n",
    "        mid = (low + high) // 2\n",
    "\n",
    "        if arr[mid] == target:\n",
    "            return mid\n",
    "        elif arr[mid] < target:\n",
    "            low = mid + 1\n",
    "        else:\n",
    "            high = mid - 1\n",
    "\n",
    "    return -1  # If the target is not found\n",
    "\n",
    "# Example usage:\n",
    "letters = ['a', 'b', 'c', 'd', 'e', 'f', 'g']\n",
    "print(binary_search_letters(letters, 'c'))  # Output: 2\n"
   ]
  },
  {
   "cell_type": "markdown",
   "metadata": {},
   "source": [
    "## Homework Hack ##"
   ]
  },
  {
   "cell_type": "code",
   "execution_count": null,
   "metadata": {},
   "outputs": [],
   "source": [
    "import pandas as pd\n",
    "\n",
    "# Load the dataset\n",
    "data = pd.read_csv(\"school_supplies.csv\")\n",
    "\n",
    "# Drop rows with missing data\n",
    "data_cleaned = data.dropna()\n",
    "\n",
    "# Sort the data by 'Price'\n",
    "data_sorted = data_cleaned.sort_values(by=\"Price\")\n",
    "\n",
    "# Extract sorted prices as a list\n",
    "price_list = data_sorted[\"Price\"].tolist()\n",
    "\n",
    "# Binary search function\n",
    "def binary_search_price(arr, target):\n",
    "    low = 0\n",
    "    high = len(arr) - 1\n",
    "\n",
    "    while low <= high:\n",
    "        mid = (low + high) // 2\n",
    "        if arr[mid] == target:\n",
    "            return mid\n",
    "        elif arr[mid] < target:\n",
    "            low = mid + 1\n",
    "        else:\n",
    "            high = mid - 1\n",
    "\n",
    "    return -1  # not found\n",
    "\n",
    "# Prices to search for\n",
    "search_prices = [1.25, 6.49, 10.00]\n",
    "\n",
    "# Run searches and print results\n",
    "for price in search_prices:\n",
    "    result = binary_search_price(price_list, price)\n",
    "    if result != -1:\n",
    "        print(f\"Price ${price} found at index {result} in the sorted list.\")\n",
    "    else:\n",
    "        print(f\"Price ${price} not found in the list.\")\n",
    "\n",
    "# Short explanation\n",
    "print(\"\\nExplanation:\")\n",
    "print(\"This program reads a CSV file of school supplies, removes any missing data, and sorts the supplies by price.\")\n",
    "print(\"It then performs binary search on the sorted list of prices to efficiently find whether specific prices exist.\")\n",
    "print(\"Binary search works by comparing the target value to the middle of the list and narrowing down the search space.\")\n"
   ]
  },
  {
   "cell_type": "markdown",
   "metadata": {},
   "source": []
  },
  {
   "cell_type": "markdown",
   "metadata": {},
   "source": [
    "The dataset is cleaned and sorted.\n",
    "\n",
    "Prices are extracted into a list.\n",
    "\n",
    "Binary search is used to look for 1.25, 6.49, and 10.00.\n",
    "\n",
    "Messages are printed showing whether each price was found."
   ]
  }
 ],
 "metadata": {
  "language_info": {
   "name": "python"
  }
 },
 "nbformat": 4,
 "nbformat_minor": 2
}

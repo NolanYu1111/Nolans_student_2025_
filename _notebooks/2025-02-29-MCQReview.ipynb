{
 "cells": [
  {
   "cell_type": "markdown",
   "metadata": {},
   "source": [
    "---\n",
    "layout: post\n",
    "title: Trimester 2 Final Review (12 Weeks) - MCQ Review\n",
    "description: Review of 5 major things I did the last 12 weeks of Tri 2 - MCQ Review\n",
    "comments: true\n",
    "sticky_rank: 1\n",
    "---"
   ]
  },
  {
   "cell_type": "markdown",
   "metadata": {},
   "source": [
    " ***Collegeboard MCQ Overview*** "
   ]
  },
  {
   "cell_type": "markdown",
   "metadata": {},
   "source": [
    "**Final Score**\n",
    "\n",
    "- 55/67"
   ]
  },
  {
   "cell_type": "markdown",
   "metadata": {},
   "source": [
    "**- Overview:**\n",
    "\n",
    "I’m really proud of how well I did on the MCQs overall. I worked through most of them with Aarush, which helped a lot as we could support each other with questions we didn’t fully understand. There were only a couple of questions I would have gotten wrong if it hadn’t been for him explaining things to me. One example was with binary, where I miscounted a number, and he pointed it out. I feel like I learned a lot through this experience and gained a lot of confidence for the AP test. I now have a better understanding of topics like reasonable time algorithms and binary search algorithms, which I didn’t know as well before. I’m happy to be better prepared for these concepts when the AP test comes around."
   ]
  },
  {
   "cell_type": "markdown",
   "metadata": {},
   "source": [
    "**Data**\n",
    "\n",
    "<img src=\"{{site.baseurl}}/images/cantellamc.png\" alt=\"Cantella Image\" style=\"width:100%; max-width:600px;\">"
   ]
  },
  {
   "cell_type": "markdown",
   "metadata": {},
   "source": [
    "- from the looks of the data, I need to improve on my Fault Tolerance as well as my Developing algorithims"
   ]
  },
  {
   "cell_type": "markdown",
   "metadata": {},
   "source": [
    "**Questions I Got Incorrect**"
   ]
  },
  {
   "cell_type": "markdown",
   "metadata": {},
   "source": [
    "Question 1:\n",
    "\n",
    "<img src=\"{{site.baseurl}}/images/Screenshot 2025-03-03 at 2.37.12 AM.png\" alt=\"Cantella Image\" style=\"width:100%; max-width:600px;\">"
   ]
  },
  {
   "cell_type": "markdown",
   "metadata": {},
   "source": [
    "- Didnt pay close enough attention, spent too little time on this question. Should have seen the variable was 3 instead I thought it was 4"
   ]
  },
  {
   "cell_type": "markdown",
   "metadata": {},
   "source": [
    "Question 6:\n",
    "\n",
    "<img src=\"{{site.baseurl}}/images/Screenshot 2025-03-03 at 2.38.57 AM.png\" alt=\"Cantella Image\" style=\"width:100%; max-width:600px;\">"
   ]
  },
  {
   "cell_type": "markdown",
   "metadata": {},
   "source": [
    "- I really don’t know how I got this one wrong. Looking back at it, it makes perfect sense why the answer choice is C and I think I may have clicked the wrong option or just was out of it."
   ]
  },
  {
   "cell_type": "markdown",
   "metadata": {},
   "source": [
    "Question 11: \n",
    "\n",
    "<img src=\"{{site.baseurl}}/images/Screenshot 2025-03-03 at 2.40.09 AM.png\" alt=\"Cantella Image\" style=\"width:100%; max-width:600px;\">"
   ]
  },
  {
   "cell_type": "markdown",
   "metadata": {},
   "source": [
    "- Didnt pay close enough attention to the math behind the binary numbers"
   ]
  },
  {
   "cell_type": "markdown",
   "metadata": {},
   "source": [
    "Question 21: \n",
    "\n",
    "<img src=\"{{site.baseurl}}/images/Screenshot 2025-03-03 at 2.42.27 AM.png\" alt=\"Cantella Image\" style=\"width:100%; max-width:600px;\">"
   ]
  },
  {
   "cell_type": "markdown",
   "metadata": {},
   "source": [
    "- Made a mistake when analyzing the pie chart, missed a small sliver of the percentage of File Size Distribution"
   ]
  },
  {
   "cell_type": "markdown",
   "metadata": {},
   "source": [
    "Question 23: \n",
    "\n",
    "<img src=\"{{site.baseurl}}/images/Screenshot 2025-03-03 at 2.45.48 AM.png\" alt=\"Cantella Image\" style=\"width:100%; max-width:600px;\">"
   ]
  },
  {
   "cell_type": "markdown",
   "metadata": {},
   "source": [
    "- I honestly just didn't understand how to do this question in general"
   ]
  },
  {
   "cell_type": "markdown",
   "metadata": {},
   "source": [
    "Question 67: \n",
    "\n",
    "<img src=\"{{site.baseurl}}/images/Screenshot 2025-03-03 at 2.47.49 AM.png\" alt=\"Cantella Image\" style=\"width:100%; max-width:600px;\">"
   ]
  },
  {
   "cell_type": "markdown",
   "metadata": {},
   "source": [
    "- Didn't see that the oak count had increased by 1. "
   ]
  },
  {
   "cell_type": "markdown",
   "metadata": {},
   "source": [
    "Conclusion: \n",
    "\n",
    "I realize that I should have been more careful and read the problems more thoroughly. By taking the time to fully understand each question and its requirements, I could have avoided some mistakes and improved my performance. Moving forward, I’ll make sure to double-check the details and approach each problem with more attention to ensure better results next time."
   ]
  },
  {
   "cell_type": "markdown",
   "metadata": {},
   "source": [
    "**Improvments From Last Tri**\n",
    "\n",
    "Comparing Data from 1st tri MCQ and 2nd tri MCQ"
   ]
  },
  {
   "cell_type": "markdown",
   "metadata": {},
   "source": [
    "- First Tri"
   ]
  },
  {
   "cell_type": "markdown",
   "metadata": {},
   "source": [
    "<img src=\"{{site.baseurl}}/images/Screenshot 2025-03-03 at 11.18.53 AM.png\" alt=\"Cantella Image\" style=\"width:100%; max-width:600px;\">"
   ]
  },
  {
   "cell_type": "markdown",
   "metadata": {},
   "source": [
    "- Second Tri"
   ]
  },
  {
   "cell_type": "markdown",
   "metadata": {},
   "source": [
    "<img src=\"{{site.baseurl}}/images/\\cantellamc.png\" alt=\"Cantella Image\" style=\"width:100%; max-width:600px;\">"
   ]
  },
  {
   "cell_type": "markdown",
   "metadata": {},
   "source": [
    "**Review**\n",
    "\n",
    "- I improved drasticly in Identifiying and Correcting Errors, Safe Computing, and Calling procedures. \n",
    "\n",
    "- For error identification, I became better at using debugging tools and analyzing error messages, which helped me catch issues more quickly. In Safe Computing, I focused on secure coding practices, like input validation and protecting against vulnerabilities such as SQL injection and XSS.\n",
    "\n",
    "- I still need to work on Developing Algorithims as that has been a noticable weak spot in both of the MCQ's I've taken. "
   ]
  }
 ],
 "metadata": {
  "language_info": {
   "name": "python"
  }
 },
 "nbformat": 4,
 "nbformat_minor": 2
}

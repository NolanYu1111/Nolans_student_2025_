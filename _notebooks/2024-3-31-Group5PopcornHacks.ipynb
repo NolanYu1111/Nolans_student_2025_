{
 "cells": [
  {
   "cell_type": "markdown",
   "metadata": {},
   "source": [
    "---\n",
    "layout: post\n",
    "title: Group 5 Homework\n",
    "description: Legal & Ethical Team Teach\n",
    "comments: true\n",
    "sticky_rank: 1\n",
    "---"
   ]
  },
  {
   "cell_type": "markdown",
   "metadata": {},
   "source": [
    "**Popcorn Hack #1**"
   ]
  },
  {
   "cell_type": "markdown",
   "metadata": {},
   "source": [
    "1. Copyright\n",
    "\n",
    "Protects creative works like books, music, videos, software, and art.\n",
    "\n",
    "Automatically applies when you create original work, but you can also register it.\n",
    "\n",
    "2. Trademark\n",
    "\n",
    "Protects brand names, logos, slogans, and symbols.\n",
    "\n"
   ]
  },
  {
   "cell_type": "markdown",
   "metadata": {},
   "source": [
    "**Popcorn Hack #2**"
   ]
  },
  {
   "cell_type": "markdown",
   "metadata": {},
   "source": [
    "The MIT License is a very simple and permissive open-source software license. It allows others to freely use, copy, modify, merge, publish, distribute, sublicense, or sell copies of your code—as long as they include the original license and copyright notice.\n",
    "\n",
    "It’s one of the most commonly used licenses because it gives maximum freedom to others, while still crediting the original creator."
   ]
  },
  {
   "cell_type": "markdown",
   "metadata": {},
   "source": [
    "MIT License\n",
    "\n",
    "Copyright (c) 2025 Nolan Yu\n",
    "\n",
    "Permission is hereby granted, free of charge, to any person obtaining a copy\n",
    "of this software and associated documentation files (the \"Software\"), to deal\n",
    "in the Software without restriction, including without limitation the rights\n",
    "to use, copy, modify, merge, publish, distribute, sublicense, and/or sell\n",
    "copies of the Software, and to permit persons to whom the Software is\n",
    "furnished to do so, subject to the following conditions:\n",
    "\n",
    "The above copyright notice and this permission notice shall be included in all\n",
    "copies or substantial portions of the Software.\n",
    "\n",
    "THE SOFTWARE IS PROVIDED \"AS IS\", WITHOUT WARRANTY OF ANY KIND, EXPRESS OR\n",
    "IMPLIED, INCLUDING BUT NOT LIMITED TO THE WARRANTIES OF MERCHANTABILITY,\n",
    "FITNESS FOR A PARTICULAR PURPOSE AND NONINFRINGEMENT. IN NO EVENT SHALL THE\n",
    "AUTHORS OR COPYRIGHT HOLDERS BE LIABLE FOR ANY CLAIM, DAMAGES OR OTHER\n",
    "LIABILITY, WHETHER IN AN ACTION OF CONTRACT, TORT OR OTHERWISE, ARISING FROM,\n",
    "OUT OF OR IN CONNECTION WITH THE SOFTWARE OR THE USE OR OTHER DEALINGS IN THE\n",
    "SOFTWARE.\n"
   ]
  },
  {
   "cell_type": "markdown",
   "metadata": {},
   "source": [
    "**Popcorn Hack #3**"
   ]
  },
  {
   "cell_type": "markdown",
   "metadata": {},
   "source": [
    "A Creative Commons (CC) License is a public copyright license that enables creators to give permission for others to use, share, and build upon their work, while still keeping some rights.\n",
    "\n",
    "Instead of saying “all rights reserved,” CC licenses say “some rights reserved,” allowing creators to choose how their work is used.\n",
    "\n",
    "There are different CC licenses, like:\n",
    "\n",
    "CC BY: Anyone can use the work, as long as they credit the creator.\n",
    "\n",
    "CC BY-NC: Can use it, but not for commercial purposes.\n",
    "\n",
    "CC BY-SA: Must share new creations under the same license.\n",
    "\n",
    "CC BY-ND: No derivatives or modifications allowed.\n"
   ]
  },
  {
   "cell_type": "markdown",
   "metadata": {},
   "source": [
    "Certain uses of copyrighted material are allowed without permission under specific conditions, called “Fair Use.” Here are the most common exceptions:\n",
    "\n",
    "Education: Use in classrooms or academic research (limited amounts).\n",
    "\n",
    "Criticism or Commentary: Like book or movie reviews that include short excerpts.\n",
    "\n",
    "News Reporting: Journalists quoting or showing portions of media.\n",
    "\n",
    "Parody or Satire: Creative works that mock or imitate another for humor.\n",
    "\n",
    "Personal Use: Making copies for yourself (like saving a photo on your device).\n",
    "\n",
    "These exceptions depend on:\n",
    "\n",
    "Purpose of use (commercial vs. educational)\n",
    "\n",
    "Amount used\n",
    "\n",
    "Effect on the market value of the original\n",
    "\n",
    "Impact of Creative Commons, Open Sourcing, and Open Access\n",
    "Systems like Creative Commons, Open Source, and Open Access remove traditional copyright barriers and make it easier to:\n",
    "\n",
    "Share knowledge and ideas freely\n",
    "\n",
    "Collaborate globally\n",
    "\n",
    "Accelerate innovation (especially in science, education, and software)\n",
    "\n",
    "These systems help level the playing field—so people around the world, regardless of income or location, can access high-quality information, tools, and creative work.\n",
    "\n"
   ]
  },
  {
   "cell_type": "markdown",
   "metadata": {},
   "source": [
    "**Homework Hack #1**"
   ]
  },
  {
   "cell_type": "markdown",
   "metadata": {},
   "source": [
    " MIT License\n",
    "\n",
    " I selected the MIT License for my personal repository because it is simple, open, and allows others to freely use, modify, and share my code with minimal restrictions. This makes it perfect for open collaboration and encourages other developers to build upon my work. The license still protects me by requiring users to credit me, but it doesn’t place limitations on how they use it. It benefits my project by making it widely adoptable while giving me recognition as the original author.\n",
    "\n",
    "\n"
   ]
  },
  {
   "cell_type": "markdown",
   "metadata": {},
   "source": [
    "MIT License\n",
    "\n",
    "Copyright (c) 2025 Nolan Yu\n",
    "\n",
    "Permission is hereby granted, free of charge, to any person obtaining a copy\n",
    "of this software and associated documentation files (the \"Software\"), to deal\n",
    "in the Software without restriction, including without limitation the rights\n",
    "to use, copy, modify, merge, publish, distribute, sublicense, and/or sell\n",
    "copies of the Software, and to permit persons to whom the Software is\n",
    "furnished to do so, subject to the following conditions:\n",
    "\n",
    "The above copyright notice and this permission notice shall be included in all\n",
    "copies or substantial portions of the Software.\n",
    "\n",
    "THE SOFTWARE IS PROVIDED \"AS IS\", WITHOUT WARRANTY OF ANY KIND, EXPRESS OR\n",
    "IMPLIED, INCLUDING BUT NOT LIMITED TO THE WARRANTIES OF MERCHANTABILITY,\n",
    "FITNESS FOR A PARTICULAR PURPOSE AND NONINFRINGEMENT. IN NO EVENT SHALL THE\n",
    "AUTHORS OR COPYRIGHT HOLDERS BE LIABLE FOR ANY CLAIM, DAMAGES OR OTHER\n",
    "LIABILITY, WHETHER IN AN ACTION OF CONTRACT, TORT OR OTHERWISE, ARISING FROM,\n",
    "OUT OF OR IN CONNECTION WITH THE SOFTWARE OR THE USE OR OTHER DEALINGS IN THE\n",
    "SOFTWARE.\n"
   ]
  },
  {
   "cell_type": "markdown",
   "metadata": {},
   "source": [
    "Project Name: Blyco – Smart Glycemic Baking Tool\n",
    "My CPT project is a web-based app that helps users understand the glycemic impact of baked goods by analyzing ingredients and user lifestyle data. The goal is to promote healthier baking habits for people at risk of diabetes.\n",
    "Key features:\n",
    "\n",
    "OCR ingredient scanner\n",
    "\n",
    "Personalized glycemic predictions\n",
    "\n",
    "Health-focused recipe recommendations\n",
    "\n",
    "Copyright 2025 Nolan Yu\n"
   ]
  },
  {
   "cell_type": "markdown",
   "metadata": {},
   "source": [
    "**Popcorn Hack #4**"
   ]
  },
  {
   "cell_type": "markdown",
   "metadata": {},
   "source": [
    "I talked to my partner about different ways to prevent copyright infringement. Together, we came up with the following strategies:\n",
    "\n",
    "Always give credit to the original creator.\n",
    "\n",
    "Use Creative Commons or public domain content.\n",
    "\n",
    "Ask for permission before using someone else's work.\n",
    "\n",
    "Create your own original content whenever possible.\n",
    "\n",
    "Don’t copy large amounts of text, images, or code without proper attribution.\n",
    "\n",
    "Use royalty-free music, images, and videos with correct licenses.\n",
    "\n",
    "Read and follow the licensing terms of any content you use.\n",
    "\n",
    "Don’t download or share pirated software or media.\n",
    "\n",
    "Understand the rules of fair use and apply them responsibly.\n",
    "\n",
    "Educate others about copyright and how to respect it."
   ]
  },
  {
   "cell_type": "markdown",
   "metadata": {},
   "source": [
    "**MC Questions**"
   ]
  },
  {
   "cell_type": "markdown",
   "metadata": {},
   "source": [
    "31: C: When the student gets permission from the copyright owner of the application\n",
    "\n",
    "51: A: Creative Commons gives creators of digital content the ability to indicate how their works can be legally used and distributed, enabling broad access to digital information.\n",
    "\n",
    "59: C: The original developer of open-source software provides free or low-cost support for users installing and running the software.\n",
    "\n",
    "2018 Questions\n",
    "\n",
    "16: D: The user will be in violation of the Digital Millennium Copyright Act (DMCA).\n",
    "\n",
    "35: D: Using samples published with a no-rights-reserved Creative Commons license"
   ]
  }
 ],
 "metadata": {
  "language_info": {
   "name": "python"
  }
 },
 "nbformat": 4,
 "nbformat_minor": 2
}

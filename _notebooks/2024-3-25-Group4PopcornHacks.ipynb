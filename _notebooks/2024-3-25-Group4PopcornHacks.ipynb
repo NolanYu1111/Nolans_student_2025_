{
 "cells": [
  {
   "cell_type": "markdown",
   "metadata": {},
   "source": [
    "---\n",
    "layout: post\n",
    "title: Group 4 Homework\n",
    "description: CrowdSourcing\n",
    "comments: true\n",
    "sticky_rank: 1\n",
    "---"
   ]
  },
  {
   "cell_type": "markdown",
   "metadata": {},
   "source": [
    "**Popcorn Hack 3**\n",
    "\n",
    "Kickstarter is a crowdsourcing platform for funding creative projects. It uses crowdsourcing by allowing individuals to contribute money toward the development of new products, films, games, or other projects. In return, backers often receive rewards or early access to the product. The platform relies on the collective support of the crowd to determine whether a project gets funded and brought to life."
   ]
  },
  {
   "cell_type": "markdown",
   "metadata": {},
   "source": []
  }
 ],
 "metadata": {
  "language_info": {
   "name": "python"
  }
 },
 "nbformat": 4,
 "nbformat_minor": 2
}

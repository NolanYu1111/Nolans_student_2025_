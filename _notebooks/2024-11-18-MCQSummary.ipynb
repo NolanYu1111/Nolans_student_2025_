{
 "cells": [
  {
   "cell_type": "markdown",
   "metadata": {},
   "source": [
    " **Collegeboard MCQ Overview** \n",
    "\n",
    " "
   ]
  },
  {
   "cell_type": "markdown",
   "metadata": {
    "vscode": {
     "languageId": "plaintext"
    }
   },
   "source": [
    "I learned alot from this quiz, including writing different codes to reach a desired destination, as well as creating accurate \n",
    "hypothesis's based on the data gathered. Alot of this test was a test of logic and being able to understand as well as interprete \n",
    "the information. "
   ]
  },
  {
   "cell_type": "markdown",
   "metadata": {},
   "source": [
    "The questions that I feel the weakest on consist of understanding bit representation as well as indentifying errors and developing algorithims. "
   ]
  },
  {
   "cell_type": "markdown",
   "metadata": {},
   "source": [
    "Corrections:"
   ]
  },
  {
   "cell_type": "markdown",
   "metadata": {},
   "source": [
    "Q2: A, calling the bank for the information would be more reliable\n",
    "\n",
    "Q5: C, didn't see the elif that added the extra cost for the 3D prices\n",
    "\n",
    "Q6: A, The IETF develops standards and protocals for internet communication\n",
    "\n",
    "Q9: D, It helps programs identify errors, not implement algorithim solutions\n",
    "\n",
    "Q10: B, Didn't see the y-pos command, therefore didnt shift 2 down\n",
    "\n",
    "Q14: C, They display the same number of values, just different numbers\n",
    "\n",
    "Q20: A, Didn't understand comparing the max of th values\n",
    "\n",
    "Q24: C, Didn't have a great understanding on Byt encryption\n",
    "\n",
    "Q25: B, any phrase is not repeated anywhere else\n",
    "\n",
    "Q28: D, Not a great understanding of byts and their usage\n",
    "\n",
    "Q30: D, Didn't see the comand running it through the genre as well\n",
    "\n",
    "Q31: C, Thought the code differentiated but in reality it stays the same\n",
    "\n",
    "Q32: A, Analyzed the wrong type of data\n",
    "\n",
    "Q37: C, didnt see that the sums were repeated, meaning more arithmatic expressions\n",
    "\n",
    "Q44: B, Didnt quite understand that 2^4 would be the numbers included due to 4 bits\n",
    "\n",
    "Q47: D, Recepients private key, due to them needing their key to access the information\n",
    "\n",
    "Q50: B, didn't understand the function of the linear search aspect\n",
    "\n",
    "Q52: D, Didn't pay enough attention to the fundamentals of the question\n",
    "\n",
    "Q56: D, didnt see them adding the count as well to the sum.\n",
    "\n",
    "Q62: C,D got C, but didnt realize that the encyclopedia could be accessed at anytime\n",
    "\n",
    "Q63: B,D got B, but didnt realize that D also was outside the count "
   ]
  },
  {
   "cell_type": "markdown",
   "metadata": {},
   "source": [
    "Overall, I believe that my performance on this MCQ is a test to my learning and how I've improved over the course of the First Trimester. Although my score was unsatisfactory, I believe that I've learned many more aspects that I can incorporate into everyday usage.\n"
   ]
  }
 ],
 "metadata": {
  "language_info": {
   "name": "python"
  }
 },
 "nbformat": 4,
 "nbformat_minor": 2
}

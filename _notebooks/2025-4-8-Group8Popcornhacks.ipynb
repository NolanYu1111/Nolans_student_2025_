{
 "cells": [
  {
   "cell_type": "markdown",
   "metadata": {},
   "source": [
    "---\n",
    "layout: post\n",
    "title: Group 8 Homework\n",
    "description: Lists and Filtering Algorithims\n",
    "comments: true\n",
    "sticky_rank: 1\n",
    "---"
   ]
  },
  {
   "cell_type": "markdown",
   "metadata": {},
   "source": [
    "**Popcorn Hack 1**"
   ]
  },
  {
   "cell_type": "code",
   "execution_count": null,
   "metadata": {},
   "outputs": [],
   "source": [
    "# Step 1: Create a list named movies with four of my favorite movies\n",
    "movies = [\"Inception\", \"The Matrix\", \"Spirited Away\", \"Interstellar\"]\n",
    "\n",
    "# Step 2: Replace the second movie with a new one\n",
    "movies[1] = \"The Dark Knight\"\n",
    "\n",
    "# Step 3: Add another movie to the list\n",
    "movies.append(\"Everything Everywhere All At Once\")\n",
    "\n",
    "# Step 4: Display the updated list\n",
    "print(movies)\n"
   ]
  },
  {
   "cell_type": "markdown",
   "metadata": {},
   "source": [
    "**Popcorn Hack 2**"
   ]
  },
  {
   "cell_type": "code",
   "execution_count": null,
   "metadata": {},
   "outputs": [],
   "source": [
    "ages = [15, 20, 34, 16, 18, 21, 14, 19]\n",
    "\n",
    "# Create a new list with only the ages 18 or older\n",
    "eligible_ages = [age for age in ages if age >= 18]\n",
    "\n",
    "print(eligible_ages)"
   ]
  },
  {
   "cell_type": "markdown",
   "metadata": {},
   "source": [
    "**Homework Hack 1**"
   ]
  },
  {
   "cell_type": "markdown",
   "metadata": {},
   "source": [
    "Video 1\n",
    "\n",
    "- Ordered and Changeable: Lists maintain the order of items and allow modifications (i.e., items can be added, removed, or changed).\n",
    "\n",
    "- Can Contain Mixed Data Types: A single list can hold elements of different types, like integers, strings, or even other lists.\n",
    "\n",
    "- Zero-Based Indexing: Items in a list are accessed using zero-based indexing (e.g., list[0] returns the first item).\n",
    "\n",
    "- Supports Negative Indexing: You can use negative numbers to access elements from the end of the list (e.g., list[-1] is the last item).\n",
    "\n",
    "- Useful List Methods: Common methods include .append(), .remove(), .pop(), .insert(), .sort(), and .reverse().\n",
    "\n",
    "- Slicing Capabilities: Lists support slicing to access sub-parts (e.g., list[1:4] returns a new list with elements at indices 1, 2, and 3).\n",
    "\n",
    "- Mutable and Dynamic: Lists can be updated in place and can grow or shrink as needed during program execution.\n",
    "\n"
   ]
  },
  {
   "cell_type": "markdown",
   "metadata": {},
   "source": [
    "Video 2 \n",
    "\n",
    "1. Introduction to Filtering\n",
    "Brief explanation of what filtering a list means (e.g., extracting elements that meet certain criteria).\n",
    "\n",
    "2. Using List Comprehension\n",
    "Demonstrate how to filter a list using concise and readable list comprehensions.\n",
    "Example: [x for x in numbers if x > 10]\n",
    "\n",
    "3. Filtering with filter() and lambda\n",
    "Show how to use the built-in filter() function combined with lambda functions.\n",
    "Example: list(filter(lambda x: x > 10, numbers))\n",
    "\n",
    "4. Custom Function with filter()\n",
    "Explain how to write a custom function to use with filter(), making the code more readable.\n",
    "\n",
    "5. Filtering Strings or Complex Conditions\n",
    "Teach how to filter based on string patterns or conditions with multiple requirements.\n",
    "Example: [name for name in names if name.startswith(\"A\") and len(name) > 3]\n",
    "\n",
    "6. Removing Unwanted Elements (e.g., None or Duplicates)\n",
    "Show how to clean lists by filtering out None, empty strings, or duplicates.\n",
    "\n",
    "7. Real-World Example / Challenge\n",
    "Wrap up with a real-world scenario (like filtering user data or logs) and maybe issue a challenge for viewers to practice."
   ]
  },
  {
   "cell_type": "markdown",
   "metadata": {},
   "source": [
    "**Homework Hack 2**\n",
    "\n"
   ]
  },
  {
   "cell_type": "code",
   "execution_count": null,
   "metadata": {},
   "outputs": [],
   "source": [
    "# Step 1: Initialize a list with numbers from 1 to 30\n",
    "numbers = list(range(1, 31))\n",
    "\n",
    "# Step 2: Filter numbers divisible by 3 but not by 5\n",
    "filtered_numbers = [num for num in numbers if num % 3 == 0 and num % 5 != 0]\n",
    "\n",
    "# Step 3: Print both the original and filtered lists\n",
    "print(\"Original list (1 to 30):\")\n",
    "print(numbers)\n",
    "\n",
    "print(\"\\nFiltered list (divisible by 3 but not by 5):\")\n",
    "print(filtered_numbers)\n"
   ]
  },
  {
   "cell_type": "markdown",
   "metadata": {},
   "source": [
    "**Homework Hack 3**"
   ]
  },
  {
   "cell_type": "code",
   "execution_count": null,
   "metadata": {},
   "outputs": [],
   "source": [
    "# Filter songs with more than 10 million total streams\n",
    "filtered_df = df[df['Total Streams (Millions)'] > 10]\n"
   ]
  },
  {
   "cell_type": "markdown",
   "metadata": {},
   "source": []
  }
 ],
 "metadata": {
  "language_info": {
   "name": "python"
  }
 },
 "nbformat": 4,
 "nbformat_minor": 2
}

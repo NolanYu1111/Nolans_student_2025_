{
 "cells": [
  {
   "cell_type": "markdown",
   "metadata": {},
   "source": [
    "---\n",
    "layout: post\n",
    "title: Group 13 Homework\n",
    "description: Logic Gates\n",
    "comments: true\n",
    "sticky_rank: 1\n",
    "---"
   ]
  },
  {
   "cell_type": "markdown",
   "metadata": {},
   "source": [
    "**Popcorn Hack 1**"
   ]
  },
  {
   "cell_type": "markdown",
   "metadata": {},
   "source": [
    "All arithmetic and decision-making in CPUs rely on combinations of logic gates. They handle everything from basic addition using XOR and AND, to making decisions based on condition checks, enabling fast and reliable computing."
   ]
  },
  {
   "cell_type": "markdown",
   "metadata": {},
   "source": [
    "**Popcorn Hack 2**"
   ]
  },
  {
   "cell_type": "markdown",
   "metadata": {},
   "source": [
    "A, As it is true when (X & Y) are chosen but also Z"
   ]
  },
  {
   "cell_type": "markdown",
   "metadata": {},
   "source": [
    "**Homework Hack 1**"
   ]
  },
  {
   "cell_type": "code",
   "execution_count": null,
   "metadata": {},
   "outputs": [],
   "source": [
    "def secure_entry_system(keycard, pin, voice_auth):\n",
    "    def AND(a, b):\n",
    "        return a & b  # AND logic\n",
    "\n",
    "    # All three inputs must be 1 to grant access\n",
    "    access_granted = AND(AND(keycard, pin), voice_auth)\n",
    "    \n",
    "    if access_granted:\n",
    "        print(\"✅ Access Granted\")\n",
    "    else:\n",
    "        print(\"❌ Access Denied\")\n",
    "\n",
    "# Test cases\n",
    "print(\"Test 1:\")\n",
    "secure_entry_system(1, 1, 1)  # All correct\n",
    "\n",
    "print(\"\\nTest 2:\")\n",
    "secure_entry_system(1, 0, 1)  # PIN is wrong\n",
    "\n",
    "print(\"\\nTest 3:\")\n",
    "secure_entry_system(0, 1, 1)  # Keycard is wrong\n",
    "\n",
    "print(\"\\nTest 4:\")\n",
    "secure_entry_system(1, 1, 0)  # Voice auth is missing\n",
    "\n",
    "print(\"\\nTest 5:\")\n",
    "secure_entry_system(0, 0, 0)  # All wrong\n"
   ]
  }
 ],
 "metadata": {
  "language_info": {
   "name": "python"
  }
 },
 "nbformat": 4,
 "nbformat_minor": 2
}

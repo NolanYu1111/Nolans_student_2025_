{
 "cells": [
  {
   "cell_type": "markdown",
   "metadata": {},
   "source": [
    "---\n",
    "layout: post\n",
    "title: Trimester 2 Final Review (12 Weeks) - Project Feature Overview\n",
    "description: Review of 5 major things I did the last 12 weeks of Tri 2 - Project Feature Overview\n",
    "comments: true\n",
    "sticky_rank: 1\n",
    "---"
   ]
  },
  {
   "cell_type": "markdown",
   "metadata": {},
   "source": [
    "**Explanation of Highlighted Feature**\n",
    "\n",
    "- One of the standout features I chose to highlight in Gemini is the ChatTutor integration. This feature goes beyond just offering a chatbot; it provides a clean and user-friendly frontend UI that allows users to seamlessly interact with the AI to get homework help. Users can ask questions, and the chatbot processes them in real-time, providing helpful and relevant answers. Additionally, ChatTutor integrates with other features, such as logging user queries and responses, so users can keep track of past interactions. The data collected from these interactions can also be used to improve responses and offer more personalized homework tips. This not only provides an efficient and effective way to help users with their homework, but it also allows us to continuously enhance the user experience by integrating the chatbot with other helpful features.\n",
    "\n"
   ]
  },
  {
   "cell_type": "markdown",
   "metadata": {},
   "source": [
    "<img src=\"Screenshot 2025-03-03 at 1.10.09 AM.png\" alt=\"Cantella Image\" style=\"width:100%; max-width:600px;\">"
   ]
  },
  {
   "cell_type": "markdown",
   "metadata": {},
   "source": [
    "**How my Feature Fufills CPT Requirments**\n",
    "\n",
    "- My project fulfills many CPT requirements that I will now list, starting with Instructions for Input From:\n",
    "- https://apcentral.collegeboard.org/media/pdf/ap-csp-student-task-directions.pdf \n",
    "\n",
    "\n",
    "1. User Input:\n",
    "Gemini's ChatTutor feature receives data from the user through the frontend interface. The user submits a question related to their homework, which is processed by the AI. The data acquired from the user input is then sent to the backend where the chatbot uses the model to generate a relevant response.\n",
    "\n",
    "This happens when a user types their question in the input field and submits it to the server. The backend then processes the input and returns a response to the user."
   ]
  },
  {
   "cell_type": "code",
   "execution_count": null,
   "metadata": {},
   "outputs": [],
   "source": [
    "<!-- HTML form where the user inputs their question -->\n",
    "<form id=\"chat-form\">\n",
    "  <input type=\"text\" id=\"user-question\" placeholder=\"Ask your homework question\">\n",
    "  <button type=\"submit\">Ask</button>\n",
    "</form>\n",
    "\n",
    "<!-- JavaScript to handle user input -->\n",
    "<script>\n",
    "  document.getElementById(\"chat-form\").addEventListener(\"submit\", async (e) => {\n",
    "    e.preventDefault();\n",
    "    const userInput = document.getElementById(\"user-question\").value;\n",
    "    const response = await fetch(\"/api/chatbot\", {\n",
    "      method: \"POST\",\n",
    "      body: JSON.stringify({ question: userInput }),\n",
    "      headers: { \"Content-Type\": \"application/json\" },\n",
    "    });\n",
    "    const data = await response.json();\n",
    "    displayResponse(data.response);\n",
    "  });\n",
    "\n",
    "  function displayResponse(response) {\n",
    "    // Display the AI's response in the UI\n",
    "    document.getElementById(\"chat-box\").innerHTML += `<p>CanTutor: ${response}</p>`;\n",
    "  }\n",
    "</script>\n"
   ]
  },
  {
   "cell_type": "markdown",
   "metadata": {},
   "source": [
    "- The HTML form collects the user's question and sends it to the backend.\n",
    "  \n",
    "- The JavaScript listens for the form submission, sends the user's question to the backend via a POST request, and then displays the response from the AI in the chatbox."
   ]
  },
  {
   "cell_type": "markdown",
   "metadata": {},
   "source": [
    "**2. Online Data Stream:**\n",
    "\n",
    "- Gemini integrates with external services to process user input. In this case, the model retrieves data from an external source (such as a knowledge base or API) to generate answers. The input from the user is submitted to the backend, where it fetches the relevant data from an online service (e.g., online homework resources, textbooks, etc.), processes the data, and then sends it back as a response.\n",
    "\n",
    "This happens when the user submits a question, and Gemini queries a relevant database or API to pull external data, processes it, and returns it in a user-friendly format.\n",
    "\n"
   ]
  },
  {
   "cell_type": "code",
   "execution_count": null,
   "metadata": {},
   "outputs": [],
   "source": [
    "@app.route('/api/chatbot', methods=['POST'])\n",
    "def handle_user_query():\n",
    "    data = request.get_json()\n",
    "    user_question = data.get(\"question\")\n",
    "    # Call an external API or model to process the question\n",
    "    external_data = get_external_data(user_question)  # External API call\n",
    "    response = process_response(external_data)\n",
    "    return jsonify({\"response\": response})\n",
    "\n",
    "def get_external_data(question):\n",
    "    # Simulating an API call to an external data source\n",
    "    response = requests.get(f\"https://api.somehomeworkdatabase.com?query={question}\")\n",
    "    return response.json()\n",
    "\n",
    "def process_response(external_data):\n",
    "    # Process the data and generate a response\n",
    "    return f\"The answer is {external_data['answer']}\"\n"
   ]
  },
  {
   "cell_type": "markdown",
   "metadata": {},
   "source": [
    "- The handle_user_query() function takes the user's question, sends it to an external API (get_external_data()), and returns the response.\n",
    "- The get_external_data() function simulates querying an external source to fetch relevant data.\n",
    "- The process_response() function formats the fetched data into a user-friendly response."
   ]
  },
  {
   "cell_type": "markdown",
   "metadata": {},
   "source": [
    "**3. Use of at Least One List or Collection Type:**\n",
    "\n",
    "- Gemini handles a list of responses in the backend, where multiple user queries and responses are stored in a database. These logs are used for tracking past interactions, improving future responses, and providing a history of queries to the user."
   ]
  },
  {
   "cell_type": "code",
   "execution_count": null,
   "metadata": {},
   "outputs": [],
   "source": [
    "@app.route('/api/chatlogs', methods=['GET'])\n",
    "def get_chat_logs():\n",
    "    logs = ChatLog.query.all()  # Retrieve all logs from the database\n",
    "    return jsonify([log.read() for log in logs])\n",
    "\n",
    "# ChatLog model with read method for serialization\n",
    "class ChatLog(db.Model):\n",
    "    id = db.Column(db.Integer, primary_key=True)\n",
    "    question = db.Column(db.String(200))\n",
    "    response = db.Column(db.String(500))\n",
    "\n",
    "    def read(self):\n",
    "        return {\"question\": self.question, \"response\": self.response}\n"
   ]
  },
  {
   "cell_type": "markdown",
   "metadata": {},
   "source": [
    "- The get_chat_logs() function retrieves all chat logs stored in the database.\n",
    "- Each ChatLog object is converted into a dictionary of questions and responses via the read() method.\n",
    "- This demonstrates the use of a collection (list) to store and retrieve multiple chat logs."
   ]
  },
  {
   "cell_type": "markdown",
   "metadata": {},
   "source": [
    "**4. Procedure with a Name, Return Type, and Parameters:**\n",
    "\n",
    "- The procedure in Gemini is a function like the handle_user_query(), which accepts the user's question as input, processes it, and returns a response. This function is part of the backend API that the frontend interacts with."
   ]
  },
  {
   "cell_type": "code",
   "execution_count": null,
   "metadata": {},
   "outputs": [],
   "source": [
    "@app.route('/api/chatbot', methods=['POST'])\n",
    "def handle_user_query():\n",
    "    \"\"\"\n",
    "    Procedure to handle user query, fetch data, and return response.\n",
    "    :param question: User's input question\n",
    "    :return: Response to the user's query\n",
    "    \"\"\"\n",
    "    data = request.get_json()\n",
    "    user_question = data.get(\"question\")\n",
    "    # Fetch data and process response\n",
    "    external_data = get_external_data(user_question)\n",
    "    response = process_response(external_data)\n",
    "    return jsonify({\"response\": response})\n",
    "\n",
    "def get_external_data(question):\n",
    "    # Simulating fetching external data from a database or API\n",
    "    return {\"answer\": \"42\"}  # Example response from external data\n"
   ]
  },
  {
   "cell_type": "markdown",
   "metadata": {},
   "source": [
    "- The handle_user_query() procedure takes in the user_question as a parameter, processes it, and returns a JSON response.\n",
    "- It demonstrates a procedure with a name, return type (jsonify), and parameters (question)."
   ]
  },
  {
   "cell_type": "markdown",
   "metadata": {},
   "source": [
    "**5. Algorithm with Sequencing, Selection, and Iteration:**\n",
    "\n",
    "- The algorithm in Gemini follows the steps of sequencing (executing statements in order), selection (making decisions), and iteration (looping over collections such as database results)."
   ]
  },
  {
   "cell_type": "code",
   "execution_count": null,
   "metadata": {},
   "outputs": [],
   "source": [
    "def handle_user_query():\n",
    "    # Sequencing: Sequential execution of code\n",
    "    data = request.get_json()\n",
    "    user_question = data.get(\"question\")\n",
    "    \n",
    "    # Selection: Decision-making based on input (e.g., if question is empty)\n",
    "    if not user_question:\n",
    "        return jsonify({\"error\": \"No question provided\"}), 400\n",
    "\n",
    "    # Iteration: Looping over past logs in the database to enhance the response\n",
    "    logs = ChatLog.query.filter_by(question=user_question).all()  # Find past logs with the same question\n",
    "    response = generate_response_based_on_logs(logs, user_question)  # Generate response based on past data\n",
    "    return jsonify({\"response\": response})\n",
    "\n",
    "def generate_response_based_on_logs(logs, question):\n",
    "    # Iterate over logs to improve response (simple logic for demonstration)\n",
    "    for log in logs:\n",
    "        if log.question == question:\n",
    "            return f\"Based on past interactions: {log.response}\"\n",
    "    return \"Here's a fresh answer!\"\n"
   ]
  },
  {
   "cell_type": "markdown",
   "metadata": {},
   "source": [
    "- Sequencing: The code is executed in a step-by-step manner (e.g., retrieving the user question and checking if it exists).\n",
    "- Selection: The if statement checks whether the user_question is valid or not.\n",
    "- Iteration: The for loop iterates over stored logs to check if the same question has been asked before and generates a response accordingly."
   ]
  },
  {
   "cell_type": "markdown",
   "metadata": {},
   "source": [
    "**How Gemini Meets CPT Requirements:**\n",
    "\n",
    "- User Input: Handles user queries to generate responses dynamically.\n",
    "- Online Data Stream: Integrates with external data (e.g., homework resources) to fetch and process relevant data.\n",
    "- Collections: Uses lists to store and manage chat logs for a history of interactions.\n",
    "- Procedure: Contains a named procedure (handle_user_query()) with a return type and parameters to process user input.\n",
    "- Algorithm: Implements sequencing, selection, and iteration to handle logic for querying the database and generating responses.\n",
    "- Instructions for Output: Sends clear, structured responses based on user input and query status (success or error).\n",
    "- This integration enhances Gemini as a fully functional AI tutor with seamless interactions, data storage, and real-time feedback."
   ]
  }
 ],
 "metadata": {
  "language_info": {
   "name": "python"
  }
 },
 "nbformat": 4,
 "nbformat_minor": 2
}

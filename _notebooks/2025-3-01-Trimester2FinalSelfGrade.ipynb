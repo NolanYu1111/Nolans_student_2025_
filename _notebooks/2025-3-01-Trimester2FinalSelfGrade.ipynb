{
 "cells": [
  {
   "cell_type": "markdown",
   "metadata": {},
   "source": [
    "---\n",
    "layout: post\n",
    "title: Trimester 2 Final Review (12 Weeks) - Self Grade\n",
    "description: Review of 5 major things I did the last 12 weeks of Tri 2 - Self Grade\n",
    "comments: true\n",
    "sticky_rank: 1\n",
    "---"
   ]
  },
  {
   "cell_type": "markdown",
   "metadata": {},
   "source": [
    "**Self Grade Chart** "
   ]
  },
  {
   "cell_type": "markdown",
   "metadata": {},
   "source": [
    "| **Assignment**             | **Grade**     | **Evidence** |\n",
    "|----------------------------|---------------|-----------|\n",
    "| 5 Showcase Review          |  4.25/5       | I have thoroughly explained and documented the six key tasks I’ve completed over the past 12 weeks, including tracking progress through issues and burndowns on our Kanban board. Moving forward, I would like to integrate my chatbot with Yash’s mechanic tips feature to enhance the overall functionality.          |\n",
    "| Project Demo + N@TM Feedback|  2/2         | I haven’t presented yet, so I can’t be completely certain, but I’m confident that my presentation will go well because I practiced it with two of my team members, Xavier and Aarush. Additionally, I have a well-crafted blog on N@TM that I put a lot of effort into, which outlines everything we've worked on.           |           \n",
    "| Highlighted Feature        |  1/1          | I have a great blog for the highlighted feature of mine (ChatTutor) going over what it is and how it fufills the CPT requirements, as well as CRUD         |\n",
    "| MCQ                        |  1/1          | I have a blog going over my mistakes, takeaways, what I learned, and what I should look out for on the AP test.          | \n",
    "| Impress                    | 0.85/1          | Didn't send the message on time, and presenting a day later         | \n",
    "| Total                      | 9.10/10      |           |    "
   ]
  }
 ],
 "metadata": {
  "language_info": {
   "name": "python"
  }
 },
 "nbformat": 4,
 "nbformat_minor": 2
}

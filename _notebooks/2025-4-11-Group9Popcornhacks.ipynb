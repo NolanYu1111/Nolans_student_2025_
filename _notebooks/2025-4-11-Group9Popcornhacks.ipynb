{
 "cells": [
  {
   "cell_type": "markdown",
   "metadata": {},
   "source": [
    "---\n",
    "layout: post\n",
    "title: Group 9 Homework\n",
    "description: Random Algorithims and Defining Simulations\n",
    "comments: true\n",
    "sticky_rank: 1\n",
    "---"
   ]
  },
  {
   "cell_type": "markdown",
   "metadata": {},
   "source": [
    "**Popcorn Hack 1**"
   ]
  },
  {
   "cell_type": "markdown",
   "metadata": {},
   "source": [
    "- A random algorithm (or randomized algorithm) uses some element of randomness or chance during its process. That means it can produce different outputs or take different paths even when given the same input.\n",
    "\n",
    "- Some questions collegeboard might ask are: \n",
    "\n",
    "\"Why might a programmer use randomness in a program?\"\n",
    "\n",
    "\"What could be the outcome of using randomness?\""
   ]
  },
  {
   "cell_type": "markdown",
   "metadata": {},
   "source": [
    "**Popcorn Hack 2**"
   ]
  },
  {
   "cell_type": "code",
   "execution_count": null,
   "metadata": {},
   "outputs": [],
   "source": [
    "import random\n",
    "\n",
    "# Step 1: Define a list of updated activities\n",
    "activities = [\n",
    "    'Play soccer',\n",
    "    'Go skateboarding',\n",
    "    'Practice basketball drills',\n",
    "    'Go for a jog',\n",
    "    'Try a new workout routine',\n",
    "    'Watch a sports game',\n",
    "    'Stretch and do yoga',\n",
    "    'Learn a new soccer trick',\n",
    "    'Do pushups or bodyweight exercises',\n",
    "    'Invite friends for a mini game',\n",
    "    'Clean your room and blast music',\n",
    "    'Be productive and finish that assignment'\n",
    "]\n",
    "\n",
    "# Step 2: Randomly choose an activity\n",
    "random_activity = random.choice(activities)\n",
    "\n",
    "# Step 3: Display the chosen activity\n",
    "print(f\"Today’s random activity: {random_activity}\")\n"
   ]
  },
  {
   "cell_type": "markdown",
   "metadata": {},
   "source": [
    "**Popcorn Hack 3**"
   ]
  },
  {
   "cell_type": "code",
   "execution_count": 1,
   "metadata": {},
   "outputs": [
    {
     "name": "stdout",
     "output_type": "stream",
     "text": [
      "Nolan will be doing going to the beach!\n",
      "Jackson will be doing karaoke!\n",
      "Aaranya will be doing watching a movie!\n",
      "Brandon will be doing playing games!\n",
      "Vincent will be doing dancing!\n"
     ]
    }
   ],
   "source": [
    "import random\n",
    "\n",
    "# Updated list of hosts and activities\n",
    "hosts = ['Nolan', 'Jackson', 'Aaranya', 'Brandon', 'Vincent']\n",
    "activities = ['dancing', 'playing games', 'watching a movie', 'going to the beach', 'karaoke']\n",
    "\n",
    "# Randomly shuffle the list of activities to assign them randomly to the guests\n",
    "random.shuffle(activities)\n",
    "\n",
    "# Loop through each guest and assign them a random activity\n",
    "for i in range(len(hosts)):\n",
    "    print(f\"{hosts[i]} will be doing {activities[i]}!\")\n"
   ]
  },
  {
   "cell_type": "markdown",
   "metadata": {},
   "source": [
    "**Popcorn Hack 1**"
   ]
  },
  {
   "cell_type": "code",
   "execution_count": 2,
   "metadata": {},
   "outputs": [
    {
     "name": "stdout",
     "output_type": "stream",
     "text": [
      "The spinner landed on: 204\n"
     ]
    }
   ],
   "source": [
    "import random\n",
    "\n",
    "# Set the range for the number spinner\n",
    "min_val = 10\n",
    "max_val = 1000\n",
    "\n",
    "# Simulate the number spinner\n",
    "spin_result = random.randint(min_val, max_val)\n",
    "\n",
    "# Display the result\n",
    "print(f\"The spinner landed on: {spin_result}\")\n"
   ]
  },
  {
   "cell_type": "markdown",
   "metadata": {},
   "source": [
    "**Popcorn Hack 2**"
   ]
  },
  {
   "cell_type": "code",
   "execution_count": 3,
   "metadata": {},
   "outputs": [
    {
     "name": "stdout",
     "output_type": "stream",
     "text": [
      "Computer chose: rock\n",
      "You chose: rock\n",
      "It's a tie!\n"
     ]
    }
   ],
   "source": [
    "import random\n",
    "\n",
    "def play_rock_paper_scissors():\n",
    "    choices = ['rock', 'paper', 'scissors']\n",
    "    computer_choice = random.choice(choices)\n",
    "    user_choice = input(\"Enter your choice (rock, paper, or scissors): \")\n",
    "\n",
    "    if user_choice not in choices:\n",
    "        print(\"Invalid choice. Please try again.\")\n",
    "        return\n",
    "\n",
    "    print(\"Computer chose:\", computer_choice)\n",
    "    print(\"You chose:\", user_choice)\n",
    "\n",
    "    if user_choice == computer_choice:\n",
    "        print(\"It's a tie!\")\n",
    "    elif (user_choice == 'rock' and computer_choice == 'scissors') or (user_choice == 'paper' and computer_choice == 'rock') or (user_choice == 'scissors' and computer_choice == 'paper'):\n",
    "        print(\"You win!\")\n",
    "    else:\n",
    "        print(\"You lose!\")\n",
    "\n",
    "play_rock_paper_scissors()"
   ]
  },
  {
   "cell_type": "markdown",
   "metadata": {},
   "source": [
    "**Homework Hack 1**"
   ]
  },
  {
   "cell_type": "code",
   "execution_count": null,
   "metadata": {},
   "outputs": [],
   "source": [
    "import random\n",
    "\n",
    "students = [f\"Student {i+1}\" for i in range(15)]\n",
    "teams = [\"Team Alpha\", \"Team Beta\", \"Team Gamma\"]\n",
    "\n",
    "# Randomly assign students to teams\n",
    "assignments = {}\n",
    "for student in students:\n",
    "    team = random.choice(teams)\n",
    "    assignments[student] = team\n",
    "\n",
    "# Print results\n",
    "for student, team in assignments.items():\n",
    "    print(f\"{student} has been assigned to {team}\")\n"
   ]
  },
  {
   "cell_type": "markdown",
   "metadata": {},
   "source": [
    "**Homework Hack 2**"
   ]
  },
  {
   "cell_type": "code",
   "execution_count": null,
   "metadata": {},
   "outputs": [],
   "source": [
    "import random\n",
    "\n",
    "weather_options = [\"Sunny\", \"Cloudy\", \"Rainy\"]\n",
    "\n",
    "# Simulate 7-day forecast\n",
    "print(\"7-Day Weather Forecast:\")\n",
    "for day in range(1, 8):\n",
    "    weather = random.choice(weather_options)\n",
    "    print(f\"Day {day}: {weather}\")\n"
   ]
  },
  {
   "cell_type": "markdown",
   "metadata": {},
   "source": [
    "**Homework Hack 3**"
   ]
  },
  {
   "cell_type": "code",
   "execution_count": null,
   "metadata": {},
   "outputs": [],
   "source": [
    "import random\n",
    "\n",
    "num_customers = 5\n",
    "service_times = [random.randint(1, 5) for _ in range(num_customers)]\n",
    "total_time = sum(service_times)\n",
    "\n",
    "print(\"Service time per customer (in minutes):\")\n",
    "for i, time in enumerate(service_times, start=1):\n",
    "    print(f\"Customer {i}: {time} minutes\")\n",
    "\n",
    "print(f\"\\nTotal time to serve all customers: {total_time} minutes\")\n"
   ]
  }
 ],
 "metadata": {
  "kernelspec": {
   "display_name": "venv",
   "language": "python",
   "name": "python3"
  },
  "language_info": {
   "codemirror_mode": {
    "name": "ipython",
    "version": 3
   },
   "file_extension": ".py",
   "mimetype": "text/x-python",
   "name": "python",
   "nbconvert_exporter": "python",
   "pygments_lexer": "ipython3",
   "version": "3.12.5"
  }
 },
 "nbformat": 4,
 "nbformat_minor": 2
}
